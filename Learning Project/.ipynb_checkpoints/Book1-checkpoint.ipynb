{
 "cells": [
  {
   "cell_type": "code",
   "execution_count": 1,
   "id": "da571889",
   "metadata": {},
   "outputs": [],
   "source": [
    "import re "
   ]
  },
  {
   "cell_type": "code",
   "execution_count": 2,
   "id": "02759629",
   "metadata": {},
   "outputs": [
    {
     "data": {
      "text/plain": [
       "['abc', 'abc']"
      ]
     },
     "execution_count": 2,
     "metadata": {},
     "output_type": "execute_result"
    }
   ],
   "source": [
    "re.findall('abc','dsfniuedsvoabcalkniefabc')"
   ]
  },
  {
   "cell_type": "code",
   "execution_count": 3,
   "id": "614ec0e6",
   "metadata": {},
   "outputs": [
    {
     "name": "stdout",
     "output_type": "stream",
     "text": [
      "abc\n",
      "abc\n"
     ]
    }
   ],
   "source": [
    "iterator=re.finditer('abc','dsfniuedsvoabcalkniefabc')\n",
    "for match in iterator:\n",
    "    print(match.group())"
   ]
  },
  {
   "cell_type": "code",
   "execution_count": 4,
   "id": "3e34d984",
   "metadata": {},
   "outputs": [
    {
     "data": {
      "text/plain": [
       "['a', 'b', 'c', 'a', 'a', 'b', 'c']"
      ]
     },
     "execution_count": 4,
     "metadata": {},
     "output_type": "execute_result"
    }
   ],
   "source": [
    "re.findall('[abc^]','dsfniuedsvoabcalkniefabc')"
   ]
  },
  {
   "cell_type": "code",
   "execution_count": 5,
   "id": "dedab097",
   "metadata": {},
   "outputs": [
    {
     "data": {
      "text/plain": [
       "9"
      ]
     },
     "execution_count": 5,
     "metadata": {},
     "output_type": "execute_result"
    }
   ],
   "source": [
    "len(re.findall('[0-9]','12319aba621acsf+*!3'))"
   ]
  },
  {
   "cell_type": "code",
   "execution_count": 6,
   "id": "4ea60752",
   "metadata": {},
   "outputs": [
    {
     "data": {
      "text/plain": [
       "['1231']"
      ]
     },
     "execution_count": 6,
     "metadata": {},
     "output_type": "execute_result"
    }
   ],
   "source": [
    "re.findall('[0-9][0-9][0-9][0-9]','12319aba621acsf+*!3')"
   ]
  },
  {
   "cell_type": "code",
   "execution_count": 7,
   "id": "ec13d9d7",
   "metadata": {},
   "outputs": [
    {
     "name": "stdout",
     "output_type": "stream",
     "text": [
      "xcjveuvhdvnodshv\n",
      "dsuvksvdbvjsbvuov\n",
      "kjjvchab****\n"
     ]
    }
   ],
   "source": [
    "regExp='[^0-9:\"{}()@#&]'\n",
    "document=['xcjveuvhdvnodshv','dsuvksvdbvjsbvuov','ndiihveiuogvh56934594','kjjvchab****','54845164844','@#$@$$%']\n",
    "for doc in document:\n",
    "    if(len(re.findall(regExp,doc))==len(doc)):\n",
    "        print(doc)"
   ]
  },
  {
   "cell_type": "code",
   "execution_count": 8,
   "id": "3c006deb",
   "metadata": {},
   "outputs": [
    {
     "name": "stdout",
     "output_type": "stream",
     "text": [
      "[\\\\]\n"
     ]
    }
   ],
   "source": [
    "print(\"[\\\\\\]\")"
   ]
  },
  {
   "cell_type": "code",
   "execution_count": 9,
   "id": "66bb3488",
   "metadata": {},
   "outputs": [
    {
     "name": "stdout",
     "output_type": "stream",
     "text": [
      "2\n",
      "\\n for new [line,] \\section and \\document and \\\\\\section \\n\n"
     ]
    }
   ],
   "source": [
    "doc=r'\\n for new [line,] \\section and \\document and \\\\\\section \\n'\n",
    "regExp='[\\\\\\]section'\n",
    "print(len(re.findall(regExp,doc)))\n",
    "print(doc)"
   ]
  },
  {
   "cell_type": "code",
   "execution_count": 10,
   "id": "56e0df2e",
   "metadata": {},
   "outputs": [],
   "source": [
    "p=re.compile('a\\d*b',re.IGNORECASE)"
   ]
  },
  {
   "cell_type": "code",
   "execution_count": 11,
   "id": "e803639d",
   "metadata": {},
   "outputs": [
    {
     "data": {
      "text/plain": [
       "['a234122B', 'Ab']"
      ]
     },
     "execution_count": 11,
     "metadata": {},
     "output_type": "execute_result"
    }
   ],
   "source": [
    "p.findall('a234122B23456Ab')"
   ]
  },
  {
   "cell_type": "code",
   "execution_count": 15,
   "id": "1bd86eb3",
   "metadata": {},
   "outputs": [
    {
     "name": "stdout",
     "output_type": "stream",
     "text": [
      "<built-in method span of re.Match object at 0x00000217216F6CC0>\n"
     ]
    }
   ],
   "source": [
    "doc='         \\t              \\t \\t how are you today..aieha346t;l2kyh;1'\n",
    "p=re.compile('\\s*')\n",
    "m=p.match(doc)\n",
    "print(m.span)"
   ]
  },
  {
   "cell_type": "code",
   "execution_count": 16,
   "id": "496731f3",
   "metadata": {},
   "outputs": [
    {
     "data": {
      "text/plain": [
       "(0, 28)"
      ]
     },
     "execution_count": 16,
     "metadata": {},
     "output_type": "execute_result"
    }
   ],
   "source": [
    "m.span()"
   ]
  },
  {
   "cell_type": "code",
   "execution_count": null,
   "id": "3043d9d6",
   "metadata": {},
   "outputs": [],
   "source": []
  }
 ],
 "metadata": {
  "kernelspec": {
   "display_name": "Python 3 (ipykernel)",
   "language": "python",
   "name": "python3"
  },
  "language_info": {
   "codemirror_mode": {
    "name": "ipython",
    "version": 3
   },
   "file_extension": ".py",
   "mimetype": "text/x-python",
   "name": "python",
   "nbconvert_exporter": "python",
   "pygments_lexer": "ipython3",
   "version": "3.10.9"
  }
 },
 "nbformat": 4,
 "nbformat_minor": 5
}
