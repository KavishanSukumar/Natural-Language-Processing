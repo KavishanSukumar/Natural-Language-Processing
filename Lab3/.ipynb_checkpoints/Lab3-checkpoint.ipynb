{
 "cells": [
  {
   "cell_type": "code",
   "execution_count": 16,
   "id": "336a2029",
   "metadata": {},
   "outputs": [],
   "source": [
    "import nltk\n",
    "from nltk import FreqDist\n",
    "import re"
   ]
  },
  {
   "cell_type": "code",
   "execution_count": 5,
   "id": "9c84f69c",
   "metadata": {},
   "outputs": [
    {
     "name": "stdout",
     "output_type": "stream",
     "text": [
      "['austen-emma.txt', 'austen-persuasion.txt', 'austen-sense.txt', 'bible-kjv.txt', 'blake-poems.txt', 'bryant-stories.txt', 'burgess-busterbrown.txt', 'carroll-alice.txt', 'chesterton-ball.txt', 'chesterton-brown.txt', 'chesterton-thursday.txt', 'edgeworth-parents.txt', 'melville-moby_dick.txt', 'milton-paradise.txt', 'shakespeare-caesar.txt', 'shakespeare-hamlet.txt', 'shakespeare-macbeth.txt', 'whitman-leaves.txt']\n"
     ]
    }
   ],
   "source": [
    "print (nltk.corpus.gutenberg.fileids())"
   ]
  },
  {
   "cell_type": "code",
   "execution_count": 11,
   "id": "d33c3cc6",
   "metadata": {},
   "outputs": [],
   "source": [
    "file0=nltk.corpus.gutenberg.fileids()[0]\n",
    "emmatext=nltk.corpus.gutenberg.raw(file0)\n",
    "emmatokens=nltk.wordpunct_tokenize(emmatext)\n",
    "emmawords=[w.lower() for w in emmatokens]"
   ]
  },
  {
   "cell_type": "code",
   "execution_count": 12,
   "id": "720c019d",
   "metadata": {},
   "outputs": [
    {
     "data": {
      "text/plain": [
       "['emma',\n",
       " 'woodhouse',\n",
       " ',',\n",
       " 'handsome',\n",
       " ',',\n",
       " 'clever',\n",
       " ',',\n",
       " 'and',\n",
       " 'rich',\n",
       " ',',\n",
       " 'with',\n",
       " 'a',\n",
       " 'comfortable',\n",
       " 'home',\n",
       " 'and',\n",
       " 'happy',\n",
       " 'disposition',\n",
       " ',',\n",
       " 'seemed',\n",
       " 'to',\n",
       " 'unite',\n",
       " 'some',\n",
       " 'of',\n",
       " 'the',\n",
       " 'best',\n",
       " 'blessings',\n",
       " 'of',\n",
       " 'existence',\n",
       " ';',\n",
       " 'and',\n",
       " 'had',\n",
       " 'lived',\n",
       " 'nearly',\n",
       " 'twenty',\n",
       " '-',\n",
       " 'one',\n",
       " 'years',\n",
       " 'in',\n",
       " 'the',\n",
       " 'world',\n",
       " 'with',\n",
       " 'very',\n",
       " 'little',\n",
       " 'to',\n",
       " 'distress',\n",
       " 'or',\n",
       " 'vex',\n",
       " 'her',\n",
       " '.',\n",
       " 'she',\n",
       " 'was',\n",
       " 'the',\n",
       " 'youngest',\n",
       " 'of',\n",
       " 'the',\n",
       " 'two',\n",
       " 'daughters',\n",
       " 'of',\n",
       " 'a',\n",
       " 'most',\n",
       " 'affectionate',\n",
       " ',',\n",
       " 'indulgent',\n",
       " 'father',\n",
       " ';',\n",
       " 'and',\n",
       " 'had',\n",
       " ',',\n",
       " 'in',\n",
       " 'consequence',\n",
       " 'of',\n",
       " 'her',\n",
       " 'sister',\n",
       " \"'\",\n",
       " 's',\n",
       " 'marriage',\n",
       " ',',\n",
       " 'been',\n",
       " 'mistress',\n",
       " 'of',\n",
       " 'his',\n",
       " 'house',\n",
       " 'from',\n",
       " 'a',\n",
       " 'very',\n",
       " 'early',\n",
       " 'period',\n",
       " '.',\n",
       " 'her',\n",
       " 'mother',\n",
       " 'had',\n",
       " 'died',\n",
       " 'too',\n",
       " 'long',\n",
       " 'ago',\n",
       " 'for',\n",
       " 'her',\n",
       " 'to',\n",
       " 'have',\n",
       " 'more']"
      ]
     },
     "execution_count": 12,
     "metadata": {},
     "output_type": "execute_result"
    }
   ],
   "source": [
    "shortwords=emmawords[11:111]\n",
    "shortwords"
   ]
  },
  {
   "cell_type": "code",
   "execution_count": 13,
   "id": "f6755612",
   "metadata": {},
   "outputs": [
    {
     "data": {
      "text/plain": [
       "dict_keys(['emma', 'woodhouse', ',', 'handsome', 'clever', 'and', 'rich', 'with', 'a', 'comfortable', 'home', 'happy', 'disposition', 'seemed', 'to', 'unite', 'some', 'of', 'the', 'best', 'blessings', 'existence', ';', 'had', 'lived', 'nearly', 'twenty', '-', 'one', 'years', 'in', 'world', 'very', 'little', 'distress', 'or', 'vex', 'her', '.', 'she', 'was', 'youngest', 'two', 'daughters', 'most', 'affectionate', 'indulgent', 'father', 'consequence', 'sister', \"'\", 's', 'marriage', 'been', 'mistress', 'his', 'house', 'from', 'early', 'period', 'mother', 'died', 'too', 'long', 'ago', 'for', 'have', 'more'])"
      ]
     },
     "execution_count": 13,
     "metadata": {},
     "output_type": "execute_result"
    }
   ],
   "source": [
    "shortdist=FreqDist(shortwords)\n",
    "shortdist.keys()"
   ]
  },
  {
   "cell_type": "code",
   "execution_count": 15,
   "id": "07d1ba8f",
   "metadata": {},
   "outputs": [
    {
     "name": "stdout",
     "output_type": "stream",
     "text": [
      "emma 1\n",
      "woodhouse 1\n",
      ", 8\n",
      "handsome 1\n",
      "clever 1\n",
      "and 4\n",
      "rich 1\n",
      "with 2\n",
      "a 3\n",
      "comfortable 1\n",
      "home 1\n",
      "happy 1\n",
      "disposition 1\n",
      "seemed 1\n",
      "to 3\n",
      "unite 1\n",
      "some 1\n",
      "of 6\n",
      "the 4\n",
      "best 1\n",
      "blessings 1\n",
      "existence 1\n",
      "; 2\n",
      "had 3\n",
      "lived 1\n",
      "nearly 1\n",
      "twenty 1\n",
      "- 1\n",
      "one 1\n",
      "years 1\n",
      "in 2\n",
      "world 1\n",
      "very 2\n",
      "little 1\n",
      "distress 1\n",
      "or 1\n",
      "vex 1\n",
      "her 4\n",
      ". 2\n",
      "she 1\n",
      "was 1\n",
      "youngest 1\n",
      "two 1\n",
      "daughters 1\n",
      "most 1\n",
      "affectionate 1\n",
      "indulgent 1\n",
      "father 1\n",
      "consequence 1\n",
      "sister 1\n",
      "' 1\n",
      "s 1\n",
      "marriage 1\n",
      "been 1\n",
      "mistress 1\n",
      "his 1\n",
      "house 1\n",
      "from 1\n",
      "early 1\n",
      "period 1\n",
      "mother 1\n",
      "died 1\n",
      "too 1\n",
      "long 1\n",
      "ago 1\n",
      "for 1\n",
      "have 1\n",
      "more 1\n"
     ]
    }
   ],
   "source": [
    "for word in shortdist.keys():\n",
    "    print (word,shortdist[word])"
   ]
  },
  {
   "cell_type": "code",
   "execution_count": 17,
   "id": "45442a3e",
   "metadata": {},
   "outputs": [],
   "source": [
    "pattern=re.compile('.*[^a-z].*')"
   ]
  },
  {
   "cell_type": "code",
   "execution_count": 29,
   "id": "60b0b27a",
   "metadata": {},
   "outputs": [
    {
     "data": {
      "text/plain": [
       "'matched non-alphabetical'"
      ]
     },
     "execution_count": 29,
     "metadata": {},
     "output_type": "execute_result"
    }
   ],
   "source": [
    "textAlpha='matched non-alphabetical'\n",
    "nonAlphaMatch=pattern.match(textAlpha)\n"
   ]
  },
  {
   "cell_type": "code",
   "execution_count": 33,
   "id": "e3529262",
   "metadata": {},
   "outputs": [],
   "source": [
    "stopwords = ['to', 'be', 'of', 'the', 'in', 'it', 'was',\n",
    "'i', 'am', 'she', 'had', 'been', 'is', 'have','could', 'not',\n",
    "'her', 'he', 'do', 'and', 'would', 'such', 'a', 'his', 'must']\n",
    "word='hello'\n",
    "if word in stopwords:\n",
    "    print ('stop!')"
   ]
  },
  {
   "cell_type": "code",
   "execution_count": 47,
   "id": "dd1b9431",
   "metadata": {},
   "outputs": [],
   "source": [
    "def alphaStopFreqDist(words, stoplist):\n",
    "    asdist=FreqDist()\n",
    "    pattern=re.compile('.*[^a-z].*')\n",
    "    for word in words:\n",
    "        if not pattern.match(word):\n",
    "            if not word in stoplist:\n",
    "                asdist[word]+=1\n",
    "    return asdist"
   ]
  },
  {
   "cell_type": "code",
   "execution_count": 51,
   "id": "0f1b5755",
   "metadata": {},
   "outputs": [
    {
     "name": "stdout",
     "output_type": "stream",
     "text": [
      "['emma', 'woodhouse', 'handsome', 'clever', 'rich', 'with', 'comfortable', 'home', 'happy', 'disposition', 'seemed', 'unite', 'some', 'best', 'blessings', 'existence', 'lived', 'nearly', 'twenty', 'one', 'years', 'world', 'very', 'little', 'distress', 'or', 'vex', 'youngest', 'two', 'daughters', 'most', 'affectionate', 'indulgent', 'father', 'consequence', 'sister', 's', 'marriage', 'mistress', 'house', 'from', 'early', 'period', 'mother', 'died', 'too', 'long', 'ago', 'for', 'more']\n"
     ]
    }
   ],
   "source": [
    "asdist=alphaStopFreqDist(shortwords,stopwords)\n",
    "keys=list(asdist.keys())\n",
    "print(keys[:50])"
   ]
  },
  {
   "cell_type": "code",
   "execution_count": 54,
   "id": "9add53c5",
   "metadata": {},
   "outputs": [
    {
     "name": "stdout",
     "output_type": "stream",
     "text": [
      "emma 1\n",
      "woodhouse 1\n",
      "handsome 1\n",
      "clever 1\n",
      "rich 1\n",
      "with 2\n",
      "comfortable 1\n",
      "home 1\n",
      "happy 1\n",
      "disposition 1\n",
      "seemed 1\n",
      "unite 1\n",
      "some 1\n",
      "best 1\n",
      "blessings 1\n",
      "existence 1\n",
      "lived 1\n",
      "nearly 1\n",
      "twenty 1\n",
      "one 1\n",
      "years 1\n",
      "world 1\n",
      "very 2\n",
      "little 1\n",
      "distress 1\n",
      "or 1\n",
      "vex 1\n",
      "youngest 1\n",
      "two 1\n",
      "daughters 1\n"
     ]
    }
   ],
   "source": [
    "for key in keys[:30]:\n",
    "    print (key, asdist[key])"
   ]
  },
  {
   "cell_type": "code",
   "execution_count": 65,
   "id": "a49cd08d",
   "metadata": {},
   "outputs": [
    {
     "data": {
      "text/plain": [
       "['emma',\n",
       " 'by',\n",
       " 'jane',\n",
       " 'austen',\n",
       " 'volume',\n",
       " 'chapter',\n",
       " 'woodhouse',\n",
       " 'handsome',\n",
       " 'clever',\n",
       " 'rich',\n",
       " 'with',\n",
       " 'comfortable',\n",
       " 'home',\n",
       " 'happy',\n",
       " 'disposition',\n",
       " 'seemed',\n",
       " 'unite',\n",
       " 'some',\n",
       " 'best',\n",
       " 'blessings',\n",
       " 'existence',\n",
       " 'lived',\n",
       " 'nearly',\n",
       " 'twenty',\n",
       " 'one',\n",
       " 'years',\n",
       " 'world',\n",
       " 'very',\n",
       " 'little',\n",
       " 'distress',\n",
       " 'or',\n",
       " 'vex',\n",
       " 'youngest',\n",
       " 'two',\n",
       " 'daughters',\n",
       " 'most',\n",
       " 'affectionate',\n",
       " 'indulgent',\n",
       " 'father',\n",
       " 'consequence',\n",
       " 'sister',\n",
       " 's',\n",
       " 'marriage',\n",
       " 'mistress',\n",
       " 'house',\n",
       " 'from',\n",
       " 'early',\n",
       " 'period',\n",
       " 'mother',\n",
       " 'died']"
      ]
     },
     "execution_count": 65,
     "metadata": {},
     "output_type": "execute_result"
    }
   ],
   "source": [
    "bigasdist=alphaStopFreqDist(emmawords,stopwords)\n",
    "bigkeys=list(bigasdist.keys())\n",
    "bigkeys[:50]"
   ]
  },
  {
   "cell_type": "code",
   "execution_count": 59,
   "id": "1ae61283",
   "metadata": {},
   "outputs": [
    {
     "name": "stdout",
     "output_type": "stream",
     "text": [
      "emma 865\n",
      "by 571\n",
      "jane 301\n",
      "austen 1\n",
      "volume 3\n",
      "chapter 56\n",
      "woodhouse 313\n",
      "handsome 38\n",
      "clever 27\n",
      "rich 14\n",
      "with 1217\n",
      "comfortable 34\n",
      "home 130\n",
      "happy 125\n",
      "disposition 24\n",
      "seemed 141\n",
      "unite 3\n",
      "some 262\n",
      "best 85\n",
      "blessings 6\n",
      "existence 8\n",
      "lived 25\n",
      "nearly 14\n",
      "twenty 30\n",
      "one 452\n",
      "years 57\n",
      "world 81\n",
      "very 1202\n",
      "little 359\n",
      "distress 19\n"
     ]
    }
   ],
   "source": [
    "for key in bigkeys[:30]:\n",
    "    print(key,bigasdist[key])"
   ]
  },
  {
   "cell_type": "code",
   "execution_count": 68,
   "id": "f20b6f0b",
   "metadata": {},
   "outputs": [],
   "source": [
    "def bigramDist(words,stoplist):\n",
    "    biDist=FreqDist()\n",
    "    uniDist=alphaStopFreqDist(words,stoplist)\n",
    "    for i in range(1,len(words)):\n",
    "        if words[i-1] in uniDist and words[i] in uniDist:\n",
    "            biword=words[i-1]+\" \"+words[i]\n",
    "            biDist[biword]+=1\n",
    "    return biDist\n",
    "    "
   ]
  },
  {
   "cell_type": "code",
   "execution_count": 70,
   "id": "0c9a76b2",
   "metadata": {},
   "outputs": [
    {
     "name": "stdout",
     "output_type": "stream",
     "text": [
      "emma by 1\n",
      "by jane 2\n",
      "jane austen 1\n",
      "emma woodhouse 5\n",
      "comfortable home 2\n",
      "happy disposition 1\n",
      "unite some 1\n",
      "best blessings 2\n",
      "lived nearly 1\n",
      "nearly twenty 1\n",
      "one years 1\n",
      "world with 1\n",
      "with very 3\n",
      "very little 28\n",
      "distress or 1\n",
      "or vex 1\n",
      "two daughters 3\n",
      "most affectionate 1\n",
      "indulgent father 1\n",
      "s marriage 7\n",
      "house from 2\n",
      "very early 4\n",
      "early period 1\n",
      "died too 1\n",
      "too long 2\n",
      "long ago 4\n",
      "ago for 2\n",
      "more than 80\n",
      "than an 5\n",
      "an indistinct 1\n"
     ]
    }
   ],
   "source": [
    "shortbidist=bigramDist(shortwords,stopwords)\n",
    "emmabidist=bigramDist(emmawords,stopwords)\n",
    "emmabidistkeys=list(emmabidist.keys())\n",
    "for key in emmabidistkeys[:30]:\n",
    "    print(key,emmabidist[key])"
   ]
  },
  {
   "cell_type": "code",
   "execution_count": null,
   "id": "c0cab00d",
   "metadata": {},
   "outputs": [],
   "source": []
  }
 ],
 "metadata": {
  "kernelspec": {
   "display_name": "Python 3 (ipykernel)",
   "language": "python",
   "name": "python3"
  },
  "language_info": {
   "codemirror_mode": {
    "name": "ipython",
    "version": 3
   },
   "file_extension": ".py",
   "mimetype": "text/x-python",
   "name": "python",
   "nbconvert_exporter": "python",
   "pygments_lexer": "ipython3",
   "version": "3.10.9"
  }
 },
 "nbformat": 4,
 "nbformat_minor": 5
}
