{
 "cells": [
  {
   "cell_type": "code",
   "execution_count": 1,
   "id": "dad31982",
   "metadata": {},
   "outputs": [],
   "source": [
    "import nltk\n",
    "from nltk import FreqDist\n",
    "import re"
   ]
  },
  {
   "cell_type": "code",
   "execution_count": 2,
   "id": "3a532f42",
   "metadata": {},
   "outputs": [],
   "source": [
    "file1=nltk.corpus.gutenberg.fileids()[1]\n",
    "austenpersuasiontext=nltk.corpus.gutenberg.raw(file1)\n",
    "austenpersuasiontokens=nltk.wordpunct_tokenize(austenpersuasiontext)\n",
    "austenpersuasionwords=[w.lower() for w in austenpersuasiontokens]"
   ]
  },
  {
   "cell_type": "code",
   "execution_count": 3,
   "id": "6cc7c3db",
   "metadata": {},
   "outputs": [
    {
     "data": {
      "text/plain": [
       "['elliot',\n",
       " ',',\n",
       " 'of',\n",
       " 'kellynch',\n",
       " 'hall',\n",
       " ',',\n",
       " 'in',\n",
       " 'somersetshire',\n",
       " ',',\n",
       " 'was',\n",
       " 'a',\n",
       " 'man',\n",
       " 'who',\n",
       " ',',\n",
       " 'for',\n",
       " 'his',\n",
       " 'own',\n",
       " 'amusement',\n",
       " ',',\n",
       " 'never',\n",
       " 'took',\n",
       " 'up',\n",
       " 'any',\n",
       " 'book',\n",
       " 'but',\n",
       " 'the',\n",
       " 'baronetage',\n",
       " ';',\n",
       " 'there',\n",
       " 'he',\n",
       " 'found',\n",
       " 'occupation',\n",
       " 'for',\n",
       " 'an',\n",
       " 'idle',\n",
       " 'hour',\n",
       " ',',\n",
       " 'and',\n",
       " 'consolation',\n",
       " 'in',\n",
       " 'a',\n",
       " 'distressed',\n",
       " 'one',\n",
       " ';',\n",
       " 'there',\n",
       " 'his',\n",
       " 'faculties',\n",
       " 'were',\n",
       " 'roused',\n",
       " 'into',\n",
       " 'admiration',\n",
       " 'and',\n",
       " 'respect',\n",
       " ',',\n",
       " 'by',\n",
       " 'contemplating',\n",
       " 'the',\n",
       " 'limited',\n",
       " 'remnant',\n",
       " 'of',\n",
       " 'the',\n",
       " 'earliest',\n",
       " 'patents',\n",
       " ';',\n",
       " 'there',\n",
       " 'any',\n",
       " 'unwelcome',\n",
       " 'sensations',\n",
       " ',',\n",
       " 'arising',\n",
       " 'from',\n",
       " 'domestic',\n",
       " 'affairs',\n",
       " 'changed',\n",
       " 'naturally',\n",
       " 'into',\n",
       " 'pity',\n",
       " 'and',\n",
       " 'contempt',\n",
       " 'as',\n",
       " 'he',\n",
       " 'turned',\n",
       " 'over',\n",
       " 'the',\n",
       " 'almost',\n",
       " 'endless',\n",
       " 'creations',\n",
       " 'of',\n",
       " 'the',\n",
       " 'last',\n",
       " 'century',\n",
       " ';',\n",
       " 'and',\n",
       " 'there',\n",
       " ',',\n",
       " 'if',\n",
       " 'every',\n",
       " 'other',\n",
       " 'leaf',\n",
       " 'were']"
      ]
     },
     "execution_count": 3,
     "metadata": {},
     "output_type": "execute_result"
    }
   ],
   "source": [
    "shortwords=austenpersuasionwords[11:111]\n",
    "shortwords"
   ]
  },
  {
   "cell_type": "code",
   "execution_count": 4,
   "id": "d2c22e19",
   "metadata": {},
   "outputs": [
    {
     "data": {
      "text/plain": [
       "dict_keys(['elliot', ',', 'of', 'kellynch', 'hall', 'in', 'somersetshire', 'was', 'a', 'man', 'who', 'for', 'his', 'own', 'amusement', 'never', 'took', 'up', 'any', 'book', 'but', 'the', 'baronetage', ';', 'there', 'he', 'found', 'occupation', 'an', 'idle', 'hour', 'and', 'consolation', 'distressed', 'one', 'faculties', 'were', 'roused', 'into', 'admiration', 'respect', 'by', 'contemplating', 'limited', 'remnant', 'earliest', 'patents', 'unwelcome', 'sensations', 'arising', 'from', 'domestic', 'affairs', 'changed', 'naturally', 'pity', 'contempt', 'as', 'turned', 'over', 'almost', 'endless', 'creations', 'last', 'century', 'if', 'every', 'other', 'leaf'])"
      ]
     },
     "execution_count": 4,
     "metadata": {},
     "output_type": "execute_result"
    }
   ],
   "source": [
    "shortdist=FreqDist(shortwords)\n",
    "shortdist.keys()\n"
   ]
  },
  {
   "cell_type": "code",
   "execution_count": 5,
   "id": "c8796819",
   "metadata": {},
   "outputs": [
    {
     "name": "stdout",
     "output_type": "stream",
     "text": [
      "elliot 1\n",
      ", 9\n",
      "of 3\n",
      "kellynch 1\n",
      "hall 1\n",
      "in 2\n",
      "somersetshire 1\n",
      "was 1\n",
      "a 2\n",
      "man 1\n",
      "who 1\n",
      "for 2\n",
      "his 2\n",
      "own 1\n",
      "amusement 1\n",
      "never 1\n",
      "took 1\n",
      "up 1\n",
      "any 2\n",
      "book 1\n",
      "but 1\n",
      "the 5\n",
      "baronetage 1\n",
      "; 4\n",
      "there 4\n",
      "he 2\n",
      "found 1\n",
      "occupation 1\n",
      "an 1\n",
      "idle 1\n",
      "hour 1\n",
      "and 4\n",
      "consolation 1\n",
      "distressed 1\n",
      "one 1\n",
      "faculties 1\n",
      "were 2\n",
      "roused 1\n",
      "into 2\n",
      "admiration 1\n",
      "respect 1\n",
      "by 1\n",
      "contemplating 1\n",
      "limited 1\n",
      "remnant 1\n",
      "earliest 1\n",
      "patents 1\n",
      "unwelcome 1\n",
      "sensations 1\n",
      "arising 1\n",
      "from 1\n",
      "domestic 1\n",
      "affairs 1\n",
      "changed 1\n",
      "naturally 1\n",
      "pity 1\n",
      "contempt 1\n",
      "as 1\n",
      "turned 1\n",
      "over 1\n",
      "almost 1\n",
      "endless 1\n",
      "creations 1\n",
      "last 1\n",
      "century 1\n",
      "if 1\n",
      "every 1\n",
      "other 1\n",
      "leaf 1\n"
     ]
    }
   ],
   "source": [
    "for word in shortdist.keys():\n",
    "    print(word,shortdist[word])"
   ]
  },
  {
   "cell_type": "code",
   "execution_count": 6,
   "id": "8e89c32a",
   "metadata": {},
   "outputs": [],
   "source": [
    "stopwords = ['to', 'be', 'of', 'the', 'in', 'it', 'was',\n",
    "'i', 'am', 'she', 'had', 'been', 'is', 'have','could', 'not',\n",
    "'her', 'he', 'do', 'and', 'would', 'such', 'a', 'his', 'must']"
   ]
  },
  {
   "cell_type": "code",
   "execution_count": 7,
   "id": "ebd468f3",
   "metadata": {},
   "outputs": [],
   "source": [
    "def alphaStopFreqDist(words, stoplist):\n",
    "    asdist=FreqDist()\n",
    "    pattern=re.compile('.*[^a-z].*')\n",
    "    for word in words:\n",
    "        if not pattern.match(word):\n",
    "            if not word in stoplist:\n",
    "                asdist[word]+=1\n",
    "    return asdist"
   ]
  },
  {
   "cell_type": "code",
   "execution_count": 8,
   "id": "cbbd2c07",
   "metadata": {},
   "outputs": [],
   "source": [
    "asdist=alphaStopFreqDist(austenpersuasionwords,stopwords)\n",
    "keys=list(asdist.keys())"
   ]
  },
  {
   "cell_type": "code",
   "execution_count": 9,
   "id": "0cd1ed76",
   "metadata": {},
   "outputs": [
    {
     "name": "stdout",
     "output_type": "stream",
     "text": [
      "['persuasion', 'by', 'jane', 'austen', 'chapter', 'sir', 'walter', 'elliot', 'kellynch', 'hall', 'somersetshire', 'man', 'who', 'for', 'own', 'amusement', 'never', 'took', 'up', 'any', 'book', 'but', 'baronetage', 'there', 'found', 'occupation', 'an', 'idle', 'hour', 'consolation', 'distressed', 'one', 'faculties', 'were', 'roused', 'into', 'admiration', 'respect', 'contemplating', 'limited', 'remnant', 'earliest', 'patents', 'unwelcome', 'sensations', 'arising', 'from', 'domestic', 'affairs', 'changed']\n"
     ]
    }
   ],
   "source": [
    "print(keys[:50])"
   ]
  },
  {
   "cell_type": "code",
   "execution_count": 10,
   "id": "a32e0d67",
   "metadata": {},
   "outputs": [
    {
     "name": "stdout",
     "output_type": "stream",
     "text": [
      "persuasion 7\n",
      "by 418\n",
      "jane 1\n",
      "austen 1\n",
      "chapter 24\n",
      "sir 149\n",
      "walter 141\n",
      "elliot 289\n",
      "kellynch 73\n",
      "hall 28\n",
      "somersetshire 4\n",
      "man 134\n",
      "who 190\n",
      "for 707\n",
      "own 163\n",
      "amusement 10\n",
      "never 155\n",
      "took 19\n",
      "up 91\n",
      "any 199\n",
      "book 8\n",
      "but 664\n",
      "baronetage 2\n",
      "there 286\n",
      "found 83\n",
      "occupation 5\n",
      "an 245\n",
      "idle 3\n",
      "hour 33\n",
      "consolation 4\n"
     ]
    }
   ],
   "source": [
    "for key in keys[:30]:\n",
    "    print(key,asdist[key])"
   ]
  },
  {
   "cell_type": "code",
   "execution_count": 11,
   "id": "3f61c6c2",
   "metadata": {},
   "outputs": [],
   "source": [
    "def bigramDist(words,stoplist):\n",
    "    biDist=FreqDist()\n",
    "    uniDist=alphaStopFreqDist(words,stoplist)\n",
    "    for i in range(1,len(words)):\n",
    "        if words[i-1] in uniDist and words[i] in uniDist:\n",
    "            biword=words[i-1]+\" \"+words[i]\n",
    "            biDist[biword]+=1\n",
    "    return biDist\n",
    "    "
   ]
  },
  {
   "cell_type": "code",
   "execution_count": 14,
   "id": "7f80c622",
   "metadata": {},
   "outputs": [
    {
     "name": "stdout",
     "output_type": "stream",
     "text": [
      "persuasion by 1\n",
      "by jane 1\n",
      "jane austen 1\n",
      "sir walter 131\n",
      "walter elliot 16\n",
      "kellynch hall 25\n",
      "man who 6\n",
      "own amusement 2\n",
      "never took 1\n",
      "took up 4\n",
      "up any 2\n",
      "any book 1\n",
      "book but 1\n",
      "found occupation 1\n",
      "occupation for 1\n",
      "for an 9\n",
      "an idle 1\n",
      "idle hour 1\n",
      "distressed one 1\n",
      "faculties were 1\n",
      "were roused 1\n",
      "roused into 1\n",
      "into admiration 1\n",
      "by contemplating 1\n",
      "limited remnant 1\n",
      "earliest patents 1\n",
      "there any 1\n",
      "any unwelcome 1\n",
      "unwelcome sensations 1\n",
      "arising from 1\n"
     ]
    }
   ],
   "source": [
    "austenpersuasiondist=bigramDist(austenpersuasionwords,stopwords)\n",
    "austenpersuasiondistkeys=list(austenpersuasiondist.keys())\n",
    "for key in austenpersuasiondistkeys[:30]:\n",
    "    print(key,austenpersuasiondist[key])"
   ]
  },
  {
   "cell_type": "code",
   "execution_count": null,
   "id": "4d400031",
   "metadata": {},
   "outputs": [],
   "source": []
  }
 ],
 "metadata": {
  "kernelspec": {
   "display_name": "Python 3 (ipykernel)",
   "language": "python",
   "name": "python3"
  },
  "language_info": {
   "codemirror_mode": {
    "name": "ipython",
    "version": 3
   },
   "file_extension": ".py",
   "mimetype": "text/x-python",
   "name": "python",
   "nbconvert_exporter": "python",
   "pygments_lexer": "ipython3",
   "version": "3.10.9"
  }
 },
 "nbformat": 4,
 "nbformat_minor": 5
}
