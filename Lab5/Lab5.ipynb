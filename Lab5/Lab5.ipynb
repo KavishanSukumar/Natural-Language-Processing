{
 "cells": [
  {
   "cell_type": "code",
   "execution_count": 36,
   "id": "bf582755",
   "metadata": {},
   "outputs": [
    {
     "name": "stdout",
     "output_type": "stream",
     "text": [
      "['150word', 'meaningful', 'text', 'with', 'html', 'tags', 'why', 'learning', 'is', 'important', 'learning', 'is', 'a', 'lifelong', 'process', 'that', 'plays', 'a', 'crucial', 'role', 'in', 'personal', 'growth', 'and', 'development', 'it', 'allows', 'individuals', 'to', 'acquire', 'knowledge', 'skills', 'and', 'understanding', 'that', 'can', 'empower', 'them', 'to', 'navigate', 'through', 'various', 'aspects', 'of', 'life', 'when', 'we', 'embrace', 'learning', 'we', 'open', 'doors', 'to', 'new', 'opportunities', 'it', 'enables', 'us', 'to', 'adapt', 'to', 'changing', 'circumstances', 'develop', 'critical', 'thinking', 'abilities', 'and', 'expand', 'our', 'perspectives', 'learning', 'encourages', 'curiosity', 'fostering', 'a', 'sense', 'of', 'exploration', 'and', 'discovery', 'moreover', 'continuous', 'learning', 'can', 'enhance', 'our', 'professional', 'prospects', 'by', 'gaining', 'expertise', 'and', 'staying', 'updated', 'in', 'our', 'respective', 'fields', 'we', 'increase', 'our', 'value', 'in', 'the', 'job', 'market', 'and', 'improve', 'our', 'chances', 'for', 'career', 'advancement', 'learning', 'also', 'has', 'numerous', 'benefits', 'for', 'personal', 'wellbeing', 'it', 'promotes', 'personal', 'fulfillment', 'boosts', 'selfconfidence', 'and', 'cultivates', 'a', 'sense', 'of', 'accomplishment', 'additionally', 'it', 'provides', 'a', 'platform', 'for', 'personal', 'expression', 'allowing', 'us', 'to', 'pursue', 'hobbies', 'interests', 'and', 'creative', 'endeavors', 'in', 'todays', 'digital', 'age', 'access', 'to', 'learning', 'resources', 'has', 'become', 'more', 'convenient', 'than', 'ever', 'online', 'courses', 'educational', 'platforms', 'and', 'communities', 'offer', 'a', 'wealth', 'of', 'knowledge', 'at', 'our', 'fingertips', 'making', 'it', 'easier', 'to', 'engage', 'in', 'continuous', 'learning', 'by', 'embracing', 'a', 'lifelong', 'learning', 'mindset', 'we', 'can', 'embrace', 'personal', 'growth', 'professional', 'development', 'and', 'a', 'more', 'fulfilling', 'life']\n"
     ]
    }
   ],
   "source": [
    "import re\n",
    "import nltk\n",
    "from nltk.corpus import stopwords\n",
    "from nltk.stem import PorterStemmer\n",
    "from nltk.util import ngrams\n",
    "\n",
    "potterstem=PorterStemmer()\n",
    "\n",
    "text = '''\n",
    "<html>\n",
    "<head>\n",
    "<title>150-word Meaningful Text with HTML Tags</title>\n",
    "</head>\n",
    "<body>\n",
    "<h1>Why Learning is Important</h1>\n",
    "\n",
    "<p>Learning is a lifelong process that plays a crucial role in personal growth and development. It allows individuals to acquire knowledge, skills, and understanding that can empower them to navigate through various aspects of life.</p>\n",
    "\n",
    "<p>When we embrace learning, we open doors to new opportunities. It enables us to adapt to changing circumstances, develop critical thinking abilities, and expand our perspectives. Learning encourages curiosity, fostering a sense of exploration and discovery.</p>\n",
    "\n",
    "<p>Moreover, continuous learning can enhance our professional prospects. By gaining expertise and staying updated in our respective fields, we increase our value in the job market and improve our chances for career advancement.</p>\n",
    "\n",
    "<p>Learning also has numerous benefits for personal well-being. It promotes personal fulfillment, boosts self-confidence, and cultivates a sense of accomplishment. Additionally, it provides a platform for personal expression, allowing us to pursue hobbies, interests, and creative endeavors.</p>\n",
    "\n",
    "<p>In today's digital age, access to learning resources has become more convenient than ever. Online courses, educational platforms, and communities offer a wealth of knowledge at our fingertips, making it easier to engage in continuous learning.</p>\n",
    "\n",
    "<p>By embracing a lifelong learning mindset, we can embrace personal growth, professional development, and a more fulfilling life.</p>\n",
    "\n",
    "</body>\n",
    "</html>\n",
    "'''\n",
    "\n",
    "\n",
    "\n",
    "nonalphanumbericpattern = '[^a-zA-Z0-9\\s]'\n",
    "htmlpattern=r'<.*?>'\n",
    "\n",
    "nonhtmltext=re.sub(htmlpattern,'',text)\n",
    "alphanumberictext=re.sub(nonalphanumbericpattern,'',nonhtmltext)\n",
    "\n",
    "texttoken=nltk.wordpunct_tokenize(alphanumberictext)\n",
    "lowertexttokens=[w.lower() for w in texttoken]\n",
    "print(lowertexttokens)"
   ]
  },
  {
   "cell_type": "code",
   "execution_count": 25,
   "id": "a3d9c28c",
   "metadata": {},
   "outputs": [
    {
     "name": "stdout",
     "output_type": "stream",
     "text": [
      "{'changing', 'market', 'digital', 'also', 'educational', 'personal', 'role', 'accomplishment', 'lifelong', 'to', 'pursue', 'wealth', 'it', 'a', 'various', 'life', 'abilities', 'sense', 'convenient', 'value', 'html', 'discovery', 'doors', 'development', 'selfconfidence', 'become', 'courses', 'wellbeing', 'circumstances', 'of', 'knowledge', 'fostering', 'fulfillment', 'easier', 'allows', 'embrace', 'individuals', 'empower', 'plays', 'open', 'chances', 'opportunities', 'fingertips', 'has', 'todays', 'we', 'online', 'promotes', 'adapt', 'making', 'develop', 'skills', 'prospects', 'critical', 'allowing', 'our', 'career', 'interests', 'numerous', 'resources', 'enhance', 'access', 'them', 'moreover', 'benefits', 'learning', 'growth', 'increase', 'exploration', 'embracing', 'through', 'us', 'ever', 'curiosity', 'perspectives', 'the', 'fields', 'provides', 'meaningful', 'offer', 'updated', 'can', 'thinking', 'expand', 'age', 'process', 'respective', 'new', 'by', 'platform', 'continuous', 'in', 'advancement', 'hobbies', 'acquire', 'aspects', 'endeavors', 'for', 'important', 'job', 'is', 'understanding', 'when', 'creative', 'that', 'enables', 'platforms', 'staying', 'gaining', 'expression', 'at', 'crucial', 'expertise', 'more', 'professional', 'tags', 'with', 'why', 'than', '150word', 'and', 'engage', 'mindset', 'encourages', 'fulfilling', 'text', 'communities', 'improve', 'boosts', 'cultivates', 'navigate', 'additionally'}\n"
     ]
    }
   ],
   "source": [
    "unique_tokens=set(lowertexttokens)\n",
    "print(unique_tokens)"
   ]
  },
  {
   "cell_type": "code",
   "execution_count": 23,
   "id": "31fc31cb",
   "metadata": {},
   "outputs": [
    {
     "name": "stdout",
     "output_type": "stream",
     "text": [
      "{'won', 'not', 'o', 'him', 'her', 'ours', 'here', 'most', 'she', 'up', 'below', 'wouldn', 'both', 'off', 'against', 'ain', 'been', 'your', 'after', \"shan't\", 'his', 'have', 'were', 'having', 'as', 'to', 't', 'it', 'just', 'a', 'over', 'he', 'haven', \"haven't\", 'should', 'shouldn', 'myself', 'shan', 'same', 'out', 'of', 'whom', 'those', 's', 'very', \"wouldn't\", 'again', 'doing', 'their', 'while', \"hadn't\", 'during', \"aren't\", 'no', 'ma', \"mustn't\", 'me', 'does', 'into', \"won't\", 'y', 'has', 'we', 're', \"mightn't\", 'didn', \"doesn't\", 'be', 'yourself', 'aren', \"she's\", 'll', 'this', 'our', \"hasn't\", 've', \"didn't\", \"should've\", 'once', 'you', 'them', \"wasn't\", 'because', \"weren't\", 'then', 'between', \"you'll\", \"shouldn't\", 'through', 'before', 'few', 'the', 'some', 'above', 'was', 'about', 'do', 'can', 'how', 'mustn', 'further', 'there', 'are', 'am', 'by', \"don't\", \"isn't\", 'in', 'hers', 'theirs', 'couldn', 'under', 'i', 'weren', 'isn', 'these', 'themselves', 'for', 'only', 'own', 'from', 'its', 'is', \"it's\", 'who', 'itself', 'any', 'they', 'doesn', 'when', \"you've\", 'that', 'too', 'my', 'mightn', \"you'd\", 'such', 'down', 'now', 'yours', 'at', 'don', 'will', 'more', 'what', 'needn', \"you're\", 'd', 'an', 'with', 'why', 'ourselves', 'on', 'than', \"couldn't\", 'other', 'and', 'if', 'each', 'all', 'so', 'nor', 'hadn', 'hasn', 'himself', 'did', \"needn't\", 'herself', 'm', 'being', 'which', 'or', \"that'll\", 'but', 'until', 'yourselves', 'had', 'wasn', 'where'}\n"
     ]
    }
   ],
   "source": [
    "stopwords_list = set(stopwords.words('english'))\n",
    "print(stopwords_list)"
   ]
  },
  {
   "cell_type": "code",
   "execution_count": 26,
   "id": "674770e0",
   "metadata": {},
   "outputs": [
    {
     "name": "stdout",
     "output_type": "stream",
     "text": [
      "109\n"
     ]
    }
   ],
   "source": [
    "filtered_sentence=[]\n",
    "for w in unique_tokens:\n",
    "    if(w not in stopwords_list):\n",
    "        filtered_sentence.append(w)\n",
    "print(len(filtered_sentence))"
   ]
  },
  {
   "cell_type": "code",
   "execution_count": 29,
   "id": "5c8223de",
   "metadata": {},
   "outputs": [
    {
     "name": "stdout",
     "output_type": "stream",
     "text": [
      "['changing', 'market', 'digital', 'also', 'educational', 'personal', 'role', 'accomplishment', 'lifelong', 'pursue', 'wealth', 'various', 'life', 'abilities', 'sense', 'convenient', 'value', 'html', 'discovery', 'doors', 'development', 'selfconfidence', 'become', 'courses', 'wellbeing', 'circumstances', 'knowledge', 'fostering', 'fulfillment', 'easier', 'allows', 'embrace', 'individuals', 'empower', 'plays', 'open', 'chances', 'opportunities', 'fingertips', 'todays', 'online', 'promotes', 'adapt', 'making', 'develop', 'skills', 'prospects', 'critical', 'allowing', 'career', 'interests', 'numerous', 'resources', 'enhance', 'access', 'moreover', 'benefits', 'learning', 'growth', 'increase', 'exploration', 'embracing', 'us', 'ever', 'curiosity', 'perspectives', 'fields', 'provides', 'meaningful', 'offer', 'updated', 'thinking', 'expand', 'age', 'process', 'respective', 'new', 'platform', 'continuous', 'advancement', 'hobbies', 'acquire', 'aspects', 'endeavors', 'important', 'job', 'understanding', 'creative', 'enables', 'platforms', 'staying', 'gaining', 'expression', 'crucial', 'expertise', 'professional', 'tags', '150word', 'engage', 'mindset', 'encourages', 'fulfilling', 'text', 'communities', 'improve', 'boosts', 'cultivates', 'navigate', 'additionally']\n"
     ]
    }
   ],
   "source": [
    "print(filtered_sentence)"
   ]
  },
  {
   "cell_type": "code",
   "execution_count": 28,
   "id": "ce8bb811",
   "metadata": {},
   "outputs": [
    {
     "data": {
      "text/plain": [
       "['chang',\n",
       " 'market',\n",
       " 'digit',\n",
       " 'also',\n",
       " 'educ',\n",
       " 'person',\n",
       " 'role',\n",
       " 'accomplish',\n",
       " 'lifelong',\n",
       " 'pursu',\n",
       " 'wealth',\n",
       " 'variou',\n",
       " 'life',\n",
       " 'abil',\n",
       " 'sens',\n",
       " 'conveni',\n",
       " 'valu',\n",
       " 'html',\n",
       " 'discoveri',\n",
       " 'door',\n",
       " 'develop',\n",
       " 'selfconfid',\n",
       " 'becom',\n",
       " 'cours',\n",
       " 'wellb',\n",
       " 'circumst',\n",
       " 'knowledg',\n",
       " 'foster',\n",
       " 'fulfil',\n",
       " 'easier',\n",
       " 'allow',\n",
       " 'embrac',\n",
       " 'individu',\n",
       " 'empow',\n",
       " 'play',\n",
       " 'open',\n",
       " 'chanc',\n",
       " 'opportun',\n",
       " 'fingertip',\n",
       " 'today',\n",
       " 'onlin',\n",
       " 'promot',\n",
       " 'adapt',\n",
       " 'make',\n",
       " 'develop',\n",
       " 'skill',\n",
       " 'prospect',\n",
       " 'critic',\n",
       " 'allow',\n",
       " 'career',\n",
       " 'interest',\n",
       " 'numer',\n",
       " 'resourc',\n",
       " 'enhanc',\n",
       " 'access',\n",
       " 'moreov',\n",
       " 'benefit',\n",
       " 'learn',\n",
       " 'growth',\n",
       " 'increas',\n",
       " 'explor',\n",
       " 'embrac',\n",
       " 'us',\n",
       " 'ever',\n",
       " 'curios',\n",
       " 'perspect',\n",
       " 'field',\n",
       " 'provid',\n",
       " 'meaning',\n",
       " 'offer',\n",
       " 'updat',\n",
       " 'think',\n",
       " 'expand',\n",
       " 'age',\n",
       " 'process',\n",
       " 'respect',\n",
       " 'new',\n",
       " 'platform',\n",
       " 'continu',\n",
       " 'advanc',\n",
       " 'hobbi',\n",
       " 'acquir',\n",
       " 'aspect',\n",
       " 'endeavor',\n",
       " 'import',\n",
       " 'job',\n",
       " 'understand',\n",
       " 'creativ',\n",
       " 'enabl',\n",
       " 'platform',\n",
       " 'stay',\n",
       " 'gain',\n",
       " 'express',\n",
       " 'crucial',\n",
       " 'expertis',\n",
       " 'profession',\n",
       " 'tag',\n",
       " '150word',\n",
       " 'engag',\n",
       " 'mindset',\n",
       " 'encourag',\n",
       " 'fulfil',\n",
       " 'text',\n",
       " 'commun',\n",
       " 'improv',\n",
       " 'boost',\n",
       " 'cultiv',\n",
       " 'navig',\n",
       " 'addit']"
      ]
     },
     "execution_count": 28,
     "metadata": {},
     "output_type": "execute_result"
    }
   ],
   "source": [
    "stemmedtokens=[]\n",
    "for w in filtered_sentence:\n",
    "    stemmedtokens.append(potterstem.stem(w))\n",
    "stemmedtokens"
   ]
  },
  {
   "cell_type": "code",
   "execution_count": 30,
   "id": "438b12a9",
   "metadata": {},
   "outputs": [
    {
     "name": "stdout",
     "output_type": "stream",
     "text": [
      "109\n"
     ]
    }
   ],
   "source": [
    "print(len(stemmedtokens))"
   ]
  },
  {
   "cell_type": "code",
   "execution_count": 34,
   "id": "5ffc0c2d",
   "metadata": {},
   "outputs": [
    {
     "data": {
      "text/plain": [
       "13"
      ]
     },
     "execution_count": 34,
     "metadata": {},
     "output_type": "execute_result"
    }
   ],
   "source": [
    "tokenizer = nltk.data.load('tokenizers/punkt/english.pickle')\n",
    "sentences = tokenizer.tokenize(nonhtmltext)\n",
    "len(sentences)"
   ]
  },
  {
   "cell_type": "code",
   "execution_count": 35,
   "id": "ea8b8937",
   "metadata": {},
   "outputs": [
    {
     "data": {
      "text/plain": [
       "15.76923076923077"
      ]
     },
     "execution_count": 35,
     "metadata": {},
     "output_type": "execute_result"
    }
   ],
   "source": [
    "len(texttoken)/len(sentences)"
   ]
  },
  {
   "cell_type": "code",
   "execution_count": 37,
   "id": "178b7a64",
   "metadata": {},
   "outputs": [
    {
     "name": "stdout",
     "output_type": "stream",
     "text": [
      "('150-word', 'Meaningful', 'Text')\n",
      "('Meaningful', 'Text', 'with')\n",
      "('Text', 'with', 'HTML')\n",
      "('with', 'HTML', 'Tags')\n",
      "('HTML', 'Tags', 'Why')\n",
      "('Tags', 'Why', 'Learning')\n",
      "('Why', 'Learning', 'is')\n",
      "('Learning', 'is', 'Important')\n",
      "('is', 'Important', 'Learning')\n",
      "('Important', 'Learning', 'is')\n",
      "('Learning', 'is', 'a')\n",
      "('is', 'a', 'lifelong')\n",
      "('a', 'lifelong', 'process')\n",
      "('lifelong', 'process', 'that')\n",
      "('process', 'that', 'plays')\n",
      "('that', 'plays', 'a')\n",
      "('plays', 'a', 'crucial')\n",
      "('a', 'crucial', 'role')\n",
      "('crucial', 'role', 'in')\n",
      "('role', 'in', 'personal')\n",
      "('in', 'personal', 'growth')\n",
      "('personal', 'growth', 'and')\n",
      "('growth', 'and', 'development')\n",
      "('and', 'development', '.')\n",
      "('development', '.', 'It')\n",
      "('.', 'It', 'allows')\n",
      "('It', 'allows', 'individuals')\n",
      "('allows', 'individuals', 'to')\n",
      "('individuals', 'to', 'acquire')\n",
      "('to', 'acquire', 'knowledge')\n",
      "('acquire', 'knowledge', ',')\n",
      "('knowledge', ',', 'skills')\n",
      "(',', 'skills', ',')\n",
      "('skills', ',', 'and')\n",
      "(',', 'and', 'understanding')\n",
      "('and', 'understanding', 'that')\n",
      "('understanding', 'that', 'can')\n",
      "('that', 'can', 'empower')\n",
      "('can', 'empower', 'them')\n",
      "('empower', 'them', 'to')\n",
      "('them', 'to', 'navigate')\n",
      "('to', 'navigate', 'through')\n",
      "('navigate', 'through', 'various')\n",
      "('through', 'various', 'aspects')\n",
      "('various', 'aspects', 'of')\n",
      "('aspects', 'of', 'life')\n",
      "('of', 'life', '.')\n",
      "('life', '.', 'When')\n",
      "('.', 'When', 'we')\n",
      "('When', 'we', 'embrace')\n",
      "('we', 'embrace', 'learning')\n",
      "('embrace', 'learning', ',')\n",
      "('learning', ',', 'we')\n",
      "(',', 'we', 'open')\n",
      "('we', 'open', 'doors')\n",
      "('open', 'doors', 'to')\n",
      "('doors', 'to', 'new')\n",
      "('to', 'new', 'opportunities')\n",
      "('new', 'opportunities', '.')\n",
      "('opportunities', '.', 'It')\n",
      "('.', 'It', 'enables')\n",
      "('It', 'enables', 'us')\n",
      "('enables', 'us', 'to')\n",
      "('us', 'to', 'adapt')\n",
      "('to', 'adapt', 'to')\n",
      "('adapt', 'to', 'changing')\n",
      "('to', 'changing', 'circumstances')\n",
      "('changing', 'circumstances', ',')\n",
      "('circumstances', ',', 'develop')\n",
      "(',', 'develop', 'critical')\n",
      "('develop', 'critical', 'thinking')\n",
      "('critical', 'thinking', 'abilities')\n",
      "('thinking', 'abilities', ',')\n",
      "('abilities', ',', 'and')\n",
      "(',', 'and', 'expand')\n",
      "('and', 'expand', 'our')\n",
      "('expand', 'our', 'perspectives')\n",
      "('our', 'perspectives', '.')\n",
      "('perspectives', '.', 'Learning')\n",
      "('.', 'Learning', 'encourages')\n",
      "('Learning', 'encourages', 'curiosity')\n",
      "('encourages', 'curiosity', ',')\n",
      "('curiosity', ',', 'fostering')\n",
      "(',', 'fostering', 'a')\n",
      "('fostering', 'a', 'sense')\n",
      "('a', 'sense', 'of')\n",
      "('sense', 'of', 'exploration')\n",
      "('of', 'exploration', 'and')\n",
      "('exploration', 'and', 'discovery')\n",
      "('and', 'discovery', '.')\n",
      "('discovery', '.', 'Moreover')\n",
      "('.', 'Moreover', ',')\n",
      "('Moreover', ',', 'continuous')\n",
      "(',', 'continuous', 'learning')\n",
      "('continuous', 'learning', 'can')\n",
      "('learning', 'can', 'enhance')\n",
      "('can', 'enhance', 'our')\n",
      "('enhance', 'our', 'professional')\n",
      "('our', 'professional', 'prospects')\n",
      "('professional', 'prospects', '.')\n",
      "('prospects', '.', 'By')\n",
      "('.', 'By', 'gaining')\n",
      "('By', 'gaining', 'expertise')\n",
      "('gaining', 'expertise', 'and')\n",
      "('expertise', 'and', 'staying')\n",
      "('and', 'staying', 'updated')\n",
      "('staying', 'updated', 'in')\n",
      "('updated', 'in', 'our')\n",
      "('in', 'our', 'respective')\n",
      "('our', 'respective', 'fields')\n",
      "('respective', 'fields', ',')\n",
      "('fields', ',', 'we')\n",
      "(',', 'we', 'increase')\n",
      "('we', 'increase', 'our')\n",
      "('increase', 'our', 'value')\n",
      "('our', 'value', 'in')\n",
      "('value', 'in', 'the')\n",
      "('in', 'the', 'job')\n",
      "('the', 'job', 'market')\n",
      "('job', 'market', 'and')\n",
      "('market', 'and', 'improve')\n",
      "('and', 'improve', 'our')\n",
      "('improve', 'our', 'chances')\n",
      "('our', 'chances', 'for')\n",
      "('chances', 'for', 'career')\n",
      "('for', 'career', 'advancement')\n",
      "('career', 'advancement', '.')\n",
      "('advancement', '.', 'Learning')\n",
      "('.', 'Learning', 'also')\n",
      "('Learning', 'also', 'has')\n",
      "('also', 'has', 'numerous')\n",
      "('has', 'numerous', 'benefits')\n",
      "('numerous', 'benefits', 'for')\n",
      "('benefits', 'for', 'personal')\n",
      "('for', 'personal', 'well-being')\n",
      "('personal', 'well-being', '.')\n",
      "('well-being', '.', 'It')\n",
      "('.', 'It', 'promotes')\n",
      "('It', 'promotes', 'personal')\n",
      "('promotes', 'personal', 'fulfillment')\n",
      "('personal', 'fulfillment', ',')\n",
      "('fulfillment', ',', 'boosts')\n",
      "(',', 'boosts', 'self-confidence')\n",
      "('boosts', 'self-confidence', ',')\n",
      "('self-confidence', ',', 'and')\n",
      "(',', 'and', 'cultivates')\n",
      "('and', 'cultivates', 'a')\n",
      "('cultivates', 'a', 'sense')\n",
      "('a', 'sense', 'of')\n",
      "('sense', 'of', 'accomplishment')\n",
      "('of', 'accomplishment', '.')\n",
      "('accomplishment', '.', 'Additionally')\n",
      "('.', 'Additionally', ',')\n",
      "('Additionally', ',', 'it')\n",
      "(',', 'it', 'provides')\n",
      "('it', 'provides', 'a')\n",
      "('provides', 'a', 'platform')\n",
      "('a', 'platform', 'for')\n",
      "('platform', 'for', 'personal')\n",
      "('for', 'personal', 'expression')\n",
      "('personal', 'expression', ',')\n",
      "('expression', ',', 'allowing')\n",
      "(',', 'allowing', 'us')\n",
      "('allowing', 'us', 'to')\n",
      "('us', 'to', 'pursue')\n",
      "('to', 'pursue', 'hobbies')\n",
      "('pursue', 'hobbies', ',')\n",
      "('hobbies', ',', 'interests')\n",
      "(',', 'interests', ',')\n",
      "('interests', ',', 'and')\n",
      "(',', 'and', 'creative')\n",
      "('and', 'creative', 'endeavors')\n",
      "('creative', 'endeavors', '.')\n",
      "('endeavors', '.', 'In')\n",
      "('.', 'In', 'today')\n",
      "('In', 'today', \"'s\")\n",
      "('today', \"'s\", 'digital')\n",
      "(\"'s\", 'digital', 'age')\n",
      "('digital', 'age', ',')\n",
      "('age', ',', 'access')\n",
      "(',', 'access', 'to')\n",
      "('access', 'to', 'learning')\n",
      "('to', 'learning', 'resources')\n",
      "('learning', 'resources', 'has')\n",
      "('resources', 'has', 'become')\n",
      "('has', 'become', 'more')\n",
      "('become', 'more', 'convenient')\n",
      "('more', 'convenient', 'than')\n",
      "('convenient', 'than', 'ever')\n",
      "('than', 'ever', '.')\n",
      "('ever', '.', 'Online')\n",
      "('.', 'Online', 'courses')\n",
      "('Online', 'courses', ',')\n",
      "('courses', ',', 'educational')\n",
      "(',', 'educational', 'platforms')\n",
      "('educational', 'platforms', ',')\n",
      "('platforms', ',', 'and')\n",
      "(',', 'and', 'communities')\n",
      "('and', 'communities', 'offer')\n",
      "('communities', 'offer', 'a')\n",
      "('offer', 'a', 'wealth')\n",
      "('a', 'wealth', 'of')\n",
      "('wealth', 'of', 'knowledge')\n",
      "('of', 'knowledge', 'at')\n",
      "('knowledge', 'at', 'our')\n",
      "('at', 'our', 'fingertips')\n",
      "('our', 'fingertips', ',')\n",
      "('fingertips', ',', 'making')\n",
      "(',', 'making', 'it')\n",
      "('making', 'it', 'easier')\n",
      "('it', 'easier', 'to')\n",
      "('easier', 'to', 'engage')\n",
      "('to', 'engage', 'in')\n",
      "('engage', 'in', 'continuous')\n",
      "('in', 'continuous', 'learning')\n",
      "('continuous', 'learning', '.')\n",
      "('learning', '.', 'By')\n",
      "('.', 'By', 'embracing')\n",
      "('By', 'embracing', 'a')\n",
      "('embracing', 'a', 'lifelong')\n",
      "('a', 'lifelong', 'learning')\n",
      "('lifelong', 'learning', 'mindset')\n",
      "('learning', 'mindset', ',')\n",
      "('mindset', ',', 'we')\n",
      "(',', 'we', 'can')\n",
      "('we', 'can', 'embrace')\n",
      "('can', 'embrace', 'personal')\n",
      "('embrace', 'personal', 'growth')\n",
      "('personal', 'growth', ',')\n",
      "('growth', ',', 'professional')\n",
      "(',', 'professional', 'development')\n",
      "('professional', 'development', ',')\n",
      "('development', ',', 'and')\n",
      "(',', 'and', 'a')\n",
      "('and', 'a', 'more')\n",
      "('a', 'more', 'fulfilling')\n",
      "('more', 'fulfilling', 'life')\n",
      "('fulfilling', 'life', '.')\n"
     ]
    }
   ],
   "source": [
    "NGRAMS=ngrams(sequence=nltk.word_tokenize(nonhtmltext), n=3)\n",
    "for grams in NGRAMS:\n",
    "    print(grams)"
   ]
  },
  {
   "cell_type": "code",
   "execution_count": 42,
   "id": "01a2c857",
   "metadata": {},
   "outputs": [],
   "source": [
    "def extract_ngrams(data,num):\n",
    "    n_grams=ngrams(nltk.word_tokenize(data), num)\n",
    "    return [' '.join(grams) for grams in n_grams]"
   ]
  },
  {
   "cell_type": "code",
   "execution_count": 45,
   "id": "f05279c7",
   "metadata": {},
   "outputs": [
    {
     "data": {
      "text/plain": [
       "['For most of',\n",
       " 'most of the',\n",
       " 'of the cases',\n",
       " 'the cases ,',\n",
       " 'cases , it',\n",
       " ', it is',\n",
       " 'it is totally',\n",
       " 'is totally fine',\n",
       " 'totally fine to',\n",
       " 'fine to use',\n",
       " 'to use the',\n",
       " 'use the pre-trained',\n",
       " 'the pre-trained version',\n",
       " 'pre-trained version .',\n",
       " 'version . So',\n",
       " '. So you',\n",
       " 'So you can',\n",
       " 'you can simply',\n",
       " 'can simply initialize',\n",
       " 'simply initialize the',\n",
       " 'initialize the tokenizer',\n",
       " 'the tokenizer without',\n",
       " 'tokenizer without providing',\n",
       " 'without providing any',\n",
       " 'providing any arguments',\n",
       " 'any arguments .']"
      ]
     },
     "execution_count": 45,
     "metadata": {},
     "output_type": "execute_result"
    }
   ],
   "source": [
    "my_text='For most of the cases, it is totally fine to use the pre-trained version. So you can simply initialize the tokenizer without providing any arguments.'\n",
    "extract_ngrams(my_text,3)"
   ]
  },
  {
   "cell_type": "code",
   "execution_count": null,
   "id": "40fe645d",
   "metadata": {},
   "outputs": [],
   "source": []
  }
 ],
 "metadata": {
  "kernelspec": {
   "display_name": "Python 3 (ipykernel)",
   "language": "python",
   "name": "python3"
  },
  "language_info": {
   "codemirror_mode": {
    "name": "ipython",
    "version": 3
   },
   "file_extension": ".py",
   "mimetype": "text/x-python",
   "name": "python",
   "nbconvert_exporter": "python",
   "pygments_lexer": "ipython3",
   "version": "3.10.9"
  }
 },
 "nbformat": 4,
 "nbformat_minor": 5
}
