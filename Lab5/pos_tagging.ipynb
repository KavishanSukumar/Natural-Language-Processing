{
 "cells": [
  {
   "cell_type": "code",
   "execution_count": 4,
   "id": "f6fc7cc5",
   "metadata": {},
   "outputs": [
    {
     "name": "stdout",
     "output_type": "stream",
     "text": [
      "[('I', 'PRON'), ('saw', 'VERB'), ('the', 'DET'), ('man', 'NOUN'), ('with', 'ADP'), ('the', 'DET'), ('telescope', 'NOUN'), ('but', 'CONJ'), ('he', 'PRON'), ('did', 'VERB'), (\"n't\", 'ADV'), ('see', 'VERB'), ('me', 'PRON')]\n",
      "[('Pierre', 'NNP'), ('Vinken', 'NNP'), (',', ','), ('61', 'CD'), ('years', 'NNS'), ('old', 'JJ'), (',', ','), ('will', 'MD'), ('join', 'VB'), ('the', 'DT'), ('board', 'NN'), ('as', 'IN'), ('a', 'DT'), ('nonexecutive', 'JJ'), ('director', 'NN'), ('Nov.', 'NNP'), ('29', 'CD'), ('.', '.')]\n"
     ]
    },
    {
     "name": "stderr",
     "output_type": "stream",
     "text": [
      "C:\\Users\\User\\AppData\\Local\\Temp\\ipykernel_3036\\844224969.py:51: DeprecationWarning: \n",
      "  Function evaluate() has been deprecated.  Use accuracy(gold)\n",
      "  instead.\n",
      "  print(dt.evaluate(test_data))\n"
     ]
    },
    {
     "name": "stdout",
     "output_type": "stream",
     "text": [
      "0.1454158195372253\n",
      "[('I', 'NN'), ('saw', 'NN'), ('the', 'NN'), ('man', 'NN'), ('with', 'NN'), ('the', 'NN'), ('telescope', 'NN'), ('but', 'NN'), ('he', 'NN'), ('did', 'NN'), (\"n't\", 'NN'), ('see', 'NN'), ('me', 'NN')]\n"
     ]
    },
    {
     "name": "stderr",
     "output_type": "stream",
     "text": [
      "C:\\Users\\User\\AppData\\Local\\Temp\\ipykernel_3036\\844224969.py:70: DeprecationWarning: \n",
      "  Function evaluate() has been deprecated.  Use accuracy(gold)\n",
      "  instead.\n",
      "  print(rt.evaluate(test_data))\n"
     ]
    },
    {
     "name": "stdout",
     "output_type": "stream",
     "text": [
      "0.24039113176493368\n",
      "[('I', 'NN'), ('saw', 'NN'), ('the', 'NN'), ('man', 'NN'), ('with', 'NN'), ('the', 'NN'), ('telescope', 'NN'), ('but', 'NN'), ('he', 'NN'), ('did', 'NN'), (\"n't\", 'NN'), ('see', 'NN'), ('me', 'NN')]\n"
     ]
    },
    {
     "name": "stderr",
     "output_type": "stream",
     "text": [
      "C:\\Users\\User\\AppData\\Local\\Temp\\ipykernel_3036\\844224969.py:87: DeprecationWarning: \n",
      "  Function evaluate() has been deprecated.  Use accuracy(gold)\n",
      "  instead.\n",
      "  print(ut.evaluate(test_data))\n"
     ]
    },
    {
     "name": "stdout",
     "output_type": "stream",
     "text": [
      "0.8607803272340013\n",
      "[('I', 'PRP'), ('saw', 'VBD'), ('the', 'DT'), ('man', 'NN'), ('with', 'IN'), ('the', 'DT'), ('telescope', None), ('but', 'CC'), ('he', 'PRP'), ('did', 'VBD'), (\"n't\", 'RB'), ('see', 'VB'), ('me', 'PRP')]\n"
     ]
    },
    {
     "name": "stderr",
     "output_type": "stream",
     "text": [
      "C:\\Users\\User\\AppData\\Local\\Temp\\ipykernel_3036\\844224969.py:91: DeprecationWarning: \n",
      "  Function evaluate() has been deprecated.  Use accuracy(gold)\n",
      "  instead.\n",
      "  print(bt.evaluate(test_data))\n"
     ]
    },
    {
     "name": "stdout",
     "output_type": "stream",
     "text": [
      "0.13466937748087907\n",
      "[('I', 'PRP'), ('saw', None), ('the', None), ('man', None), ('with', None), ('the', None), ('telescope', None), ('but', None), ('he', None), ('did', None), (\"n't\", None), ('see', None), ('me', None)]\n"
     ]
    },
    {
     "name": "stderr",
     "output_type": "stream",
     "text": [
      "C:\\Users\\User\\AppData\\Local\\Temp\\ipykernel_3036\\844224969.py:95: DeprecationWarning: \n",
      "  Function evaluate() has been deprecated.  Use accuracy(gold)\n",
      "  instead.\n",
      "  print(tt.evaluate(test_data))\n"
     ]
    },
    {
     "name": "stdout",
     "output_type": "stream",
     "text": [
      "0.08064672281924679\n",
      "[('I', 'PRP'), ('saw', None), ('the', None), ('man', None), ('with', None), ('the', None), ('telescope', None), ('but', None), ('he', None), ('did', None), (\"n't\", None), ('see', None), ('me', None)]\n"
     ]
    },
    {
     "name": "stderr",
     "output_type": "stream",
     "text": [
      "C:\\Users\\User\\AppData\\Local\\Temp\\ipykernel_3036\\844224969.py:112: DeprecationWarning: \n",
      "  Function evaluate() has been deprecated.  Use accuracy(gold)\n",
      "  instead.\n",
      "  print(ct.evaluate(test_data))\n"
     ]
    },
    {
     "name": "stdout",
     "output_type": "stream",
     "text": [
      "0.9094781682641108\n",
      "[('I', 'PRP'), ('saw', 'VBD'), ('the', 'DT'), ('man', 'NN'), ('with', 'IN'), ('the', 'DT'), ('telescope', 'NN'), ('but', 'CC'), ('he', 'PRP'), ('did', 'VBD'), (\"n't\", 'RB'), ('see', 'VB'), ('me', 'PRP')]\n"
     ]
    },
    {
     "name": "stderr",
     "output_type": "stream",
     "text": [
      "C:\\Users\\User\\AppData\\Local\\Temp\\ipykernel_3036\\844224969.py:126: DeprecationWarning: \n",
      "  Function evaluate() has been deprecated.  Use accuracy(gold)\n",
      "  instead.\n",
      "  print(nbt.evaluate(test_data))\n"
     ]
    },
    {
     "name": "stdout",
     "output_type": "stream",
     "text": [
      "0.9306806079969019\n",
      "[('I', 'PRP'), ('saw', 'VBD'), ('the', 'DT'), ('man', 'NN'), ('with', 'IN'), ('the', 'DT'), ('telescope', 'NN'), ('but', 'CC'), ('he', 'PRP'), ('did', 'VBD'), (\"n't\", 'RB'), ('see', 'VB'), ('me', 'PRP')]\n",
      "  ==> Training (10 iterations)\n",
      "\n",
      "      Iteration    Log Likelihood    Accuracy\n",
      "      ---------------------------------------\n",
      "             1          -3.82864        0.007\n",
      "             2          -0.76176        0.957\n",
      "         Final               nan        0.984\n"
     ]
    },
    {
     "name": "stderr",
     "output_type": "stream",
     "text": [
      "C:\\Users\\User\\AppData\\Local\\Temp\\ipykernel_3036\\844224969.py:138: DeprecationWarning: \n",
      "  Function evaluate() has been deprecated.  Use accuracy(gold)\n",
      "  instead.\n",
      "  print(met.evaluate(test_data))\n"
     ]
    },
    {
     "name": "stdout",
     "output_type": "stream",
     "text": [
      "0.9270984606447865\n",
      "[('I', 'PRP'), ('saw', 'VBD'), ('the', 'DT'), ('man', 'NN'), ('with', 'IN'), ('the', 'DT'), ('telescope', 'NN'), ('but', 'CC'), ('he', 'PRP'), ('did', 'VBD'), (\"n't\", 'RB'), ('see', 'VB'), ('me', 'PRP')]\n",
      "Tagger accuracies:\n",
      "\n"
     ]
    },
    {
     "name": "stderr",
     "output_type": "stream",
     "text": [
      "C:\\Users\\User\\AppData\\Local\\Temp\\ipykernel_3036\\844224969.py:145: DeprecationWarning: \n",
      "  Function evaluate() has been deprecated.  Use accuracy(gold)\n",
      "  instead.\n",
      "  print('Default tagger %.2f' % dt.evaluate(test_data))\n"
     ]
    },
    {
     "name": "stdout",
     "output_type": "stream",
     "text": [
      "Default tagger 0.15\n"
     ]
    },
    {
     "name": "stderr",
     "output_type": "stream",
     "text": [
      "C:\\Users\\User\\AppData\\Local\\Temp\\ipykernel_3036\\844224969.py:146: DeprecationWarning: \n",
      "  Function evaluate() has been deprecated.  Use accuracy(gold)\n",
      "  instead.\n",
      "  print('Regex tagger %.2f' % rt.evaluate(test_data))\n"
     ]
    },
    {
     "name": "stdout",
     "output_type": "stream",
     "text": [
      "Regex tagger 0.24\n"
     ]
    },
    {
     "name": "stderr",
     "output_type": "stream",
     "text": [
      "C:\\Users\\User\\AppData\\Local\\Temp\\ipykernel_3036\\844224969.py:147: DeprecationWarning: \n",
      "  Function evaluate() has been deprecated.  Use accuracy(gold)\n",
      "  instead.\n",
      "  print('Unigram tagger %.2f' % ut.evaluate(test_data))\n"
     ]
    },
    {
     "name": "stdout",
     "output_type": "stream",
     "text": [
      "Unigram tagger 0.86\n"
     ]
    },
    {
     "name": "stderr",
     "output_type": "stream",
     "text": [
      "C:\\Users\\User\\AppData\\Local\\Temp\\ipykernel_3036\\844224969.py:148: DeprecationWarning: \n",
      "  Function evaluate() has been deprecated.  Use accuracy(gold)\n",
      "  instead.\n",
      "  print('Bigram tagger %.2f' % bt.evaluate(test_data))\n"
     ]
    },
    {
     "name": "stdout",
     "output_type": "stream",
     "text": [
      "Bigram tagger 0.13\n"
     ]
    },
    {
     "name": "stderr",
     "output_type": "stream",
     "text": [
      "C:\\Users\\User\\AppData\\Local\\Temp\\ipykernel_3036\\844224969.py:149: DeprecationWarning: \n",
      "  Function evaluate() has been deprecated.  Use accuracy(gold)\n",
      "  instead.\n",
      "  print('Trigram tagger %.2f' % tt.evaluate(test_data))\n"
     ]
    },
    {
     "name": "stdout",
     "output_type": "stream",
     "text": [
      "Trigram tagger 0.08\n"
     ]
    },
    {
     "name": "stderr",
     "output_type": "stream",
     "text": [
      "C:\\Users\\User\\AppData\\Local\\Temp\\ipykernel_3036\\844224969.py:150: DeprecationWarning: \n",
      "  Function evaluate() has been deprecated.  Use accuracy(gold)\n",
      "  instead.\n",
      "  print('Combined tagger %.2f' % ct.evaluate(test_data))\n"
     ]
    },
    {
     "name": "stdout",
     "output_type": "stream",
     "text": [
      "Combined tagger 0.91\n"
     ]
    },
    {
     "name": "stderr",
     "output_type": "stream",
     "text": [
      "C:\\Users\\User\\AppData\\Local\\Temp\\ipykernel_3036\\844224969.py:151: DeprecationWarning: \n",
      "  Function evaluate() has been deprecated.  Use accuracy(gold)\n",
      "  instead.\n",
      "  print('Naive Bayes tagger %.2f' % nbt.evaluate(test_data))\n"
     ]
    },
    {
     "name": "stdout",
     "output_type": "stream",
     "text": [
      "Naive Bayes tagger 0.93\n"
     ]
    },
    {
     "name": "stderr",
     "output_type": "stream",
     "text": [
      "C:\\Users\\User\\AppData\\Local\\Temp\\ipykernel_3036\\844224969.py:152: DeprecationWarning: \n",
      "  Function evaluate() has been deprecated.  Use accuracy(gold)\n",
      "  instead.\n",
      "  print('Maxent tagger %.2f' % met.evaluate(test_data))\n"
     ]
    },
    {
     "name": "stdout",
     "output_type": "stream",
     "text": [
      "Maxent tagger 0.93\n"
     ]
    }
   ],
   "source": [
    "# -*- coding: utf-8 -*-\n",
    "\"\"\"\n",
    "Created July 2017\n",
    "\n",
    "@author: arw\n",
    "\"\"\"\n",
    "\n",
    "from nltk.tag.sequential import ClassifierBasedPOSTagger\n",
    "from nltk.classify import NaiveBayesClassifier, MaxentClassifier\n",
    "from nltk.tag import TrigramTagger  # Considers previous 2 words\n",
    "from nltk.tag import BigramTagger  # Considers previous word\n",
    "from nltk.tag import UnigramTagger  # Context insentitive\n",
    "from nltk.tag import RegexpTagger\n",
    "from nltk.tag import DefaultTagger\n",
    "from nltk.corpus import treebank\n",
    "import nltk\n",
    "sentence = \"I saw the man with the telescope but he didn't see me\"\n",
    "\n",
    "\n",
    "# Using NLTK's built-in tagger based on PTB\n",
    "tokens = nltk.word_tokenize(sentence)\n",
    "tagged_sent = nltk.pos_tag(tokens, tagset='universal')\n",
    "print(tagged_sent)\n",
    "\n",
    "\n",
    "# # Using the pattern package (Python 2.x only) built-in tagger (optional)\n",
    "# from pattern.en import tag\n",
    "# tagged_sent = tag(sentence)\n",
    "# print(tagged_sent)\n",
    "\n",
    "\n",
    "# Building your own tagger\n",
    "# - default tagger that tags all words the same!\n",
    "# - regex tagger that doesn't care about context (most common tag per word)\n",
    "\n",
    "# Fortunately the treebank corpus is bundled with NLTK for training a tagger\n",
    "# We need to divide the data into training and test sets first\n",
    "data = treebank.tagged_sents()\n",
    "train_data = data[:3500]\n",
    "test_data = data[3500:]\n",
    "print(train_data[0])\n",
    "\n",
    "# SAQ 1: How much data is there for training, testing?\n",
    "# SAQ 2: What is the last training sentence; test sentence?\n",
    "\n",
    "# Default 'naive' tagger - tags all words with a given tag!\n",
    "# Can specify any default tag - NN gives best score - why?\n",
    "dt = DefaultTagger('NN')\n",
    "\n",
    "# Test score and example sentence tag output\n",
    "print(dt.evaluate(test_data))\n",
    "print(dt.tag(tokens))\n",
    "\n",
    "\n",
    "# Regex tagger\n",
    "# Define 'fixed' regex tag patterns\n",
    "patterns = [\n",
    "    (r'.*ing$', 'VBG'),               # gerunds\n",
    "    (r'.*ed$', 'VBD'),                # simple past\n",
    "    (r'.*es$', 'VBZ'),                # 3rd singular present\n",
    "    (r'.*ould$', 'MD'),               # modals\n",
    "    (r'.*\\'s$', 'NN$'),               # possessive nouns\n",
    "    (r'.*s$', 'NNS'),                 # plural nouns\n",
    "    (r'^-?[0-9]+(.[0-9]+)?$', 'CD'),  # cardinal numbers\n",
    "    (r'.*', 'NN')                     # nouns (default) ...\n",
    "]\n",
    "rt = RegexpTagger(patterns)\n",
    "\n",
    "# Test score and example sentence tag output\n",
    "print(rt.evaluate(test_data))\n",
    "print(rt.tag(tokens))\n",
    "\n",
    "\n",
    "# Training your own tagger\n",
    "# 1. using n-gram taggers and combining them with backoff\n",
    "# 2. using naive bayes (statistical) model\n",
    "# 3. using maximum entropy (classifier) model\n",
    "\n",
    "# N gram taggers\n",
    "\n",
    "# Traing the taggers\n",
    "ut = UnigramTagger(train_data)\n",
    "bt = BigramTagger(train_data)\n",
    "tt = TrigramTagger(train_data)\n",
    "\n",
    "# Test UnigramTagger score and example sentence tag output\n",
    "print(ut.evaluate(test_data))\n",
    "print(ut.tag(tokens))\n",
    "\n",
    "# Test BigramTagger score and example sentence tag output\n",
    "print(bt.evaluate(test_data))\n",
    "print(bt.tag(tokens))\n",
    "\n",
    "# Test TrigramTagger score and example sentence tag output\n",
    "print(tt.evaluate(test_data))\n",
    "print(tt.tag(tokens))\n",
    "\n",
    "# Combining all 3 n-gram taggers with backoff (smoothing)\n",
    "\n",
    "\n",
    "def combined_tagger(train_data, taggers, backoff=None):\n",
    "    for tagger in taggers:\n",
    "        backoff = tagger(train_data, backoff=backoff)\n",
    "    return backoff\n",
    "\n",
    "\n",
    "ct = combined_tagger(train_data=train_data,\n",
    "                     taggers=[UnigramTagger, BigramTagger, TrigramTagger],\n",
    "                     backoff=rt)\n",
    "\n",
    "# Test Combined n-gram tagger score and example sentence tag output\n",
    "print(ct.evaluate(test_data))\n",
    "print(ct.tag(tokens))\n",
    "\n",
    "\n",
    "# Treating POS tagging as a classification problem\n",
    "# We use the ClassifierBasedPOSTagger class to build a classifier by specifying some\n",
    "# classification algorithm - here the NaiveBayes abd Maxent algorithms which are passed\n",
    "# to the class via the classifier_builder parameter\n",
    "\n",
    "# First a Naive Bayes (statistical) classifier\n",
    "nbt = ClassifierBasedPOSTagger(train=train_data,\n",
    "                               classifier_builder=NaiveBayesClassifier.train)\n",
    "\n",
    "# Test NBC tagger score and example sentence tag output\n",
    "print(nbt.evaluate(test_data))\n",
    "print(nbt.tag(tokens))\n",
    "\n",
    "\n",
    "# Finally a Maximum entropy classifier (that would take sometime)\n",
    "# met = ClassifierBasedPOSTagger(train=train_data,\n",
    "#                               classifier_builder=MaxentClassifier.train)\n",
    "\n",
    "met = ClassifierBasedPOSTagger(train=train_data,\n",
    "                               classifier_builder=lambda train_feats: MaxentClassifier.train(train_feats, max_iter=10))\n",
    "\n",
    "# Test Maxent tagger score and example sentence tag output\n",
    "print(met.evaluate(test_data))\n",
    "print(met.tag(tokens))\n",
    "\n",
    "\n",
    "# Final accuracies\n",
    "print('Tagger accuracies:')\n",
    "print()\n",
    "print('Default tagger %.2f' % dt.evaluate(test_data))\n",
    "print('Regex tagger %.2f' % rt.evaluate(test_data))\n",
    "print('Unigram tagger %.2f' % ut.evaluate(test_data))\n",
    "print('Bigram tagger %.2f' % bt.evaluate(test_data))\n",
    "print('Trigram tagger %.2f' % tt.evaluate(test_data))\n",
    "print('Combined tagger %.2f' % ct.evaluate(test_data))\n",
    "print('Naive Bayes tagger %.2f' % nbt.evaluate(test_data))\n",
    "print('Maxent tagger %.2f' % met.evaluate(test_data))\n"
   ]
  },
  {
   "cell_type": "code",
   "execution_count": null,
   "id": "34dccb47",
   "metadata": {},
   "outputs": [],
   "source": []
  }
 ],
 "metadata": {
  "kernelspec": {
   "display_name": "Python 3 (ipykernel)",
   "language": "python",
   "name": "python3"
  },
  "language_info": {
   "codemirror_mode": {
    "name": "ipython",
    "version": 3
   },
   "file_extension": ".py",
   "mimetype": "text/x-python",
   "name": "python",
   "nbconvert_exporter": "python",
   "pygments_lexer": "ipython3",
   "version": "3.10.9"
  }
 },
 "nbformat": 4,
 "nbformat_minor": 5
}
