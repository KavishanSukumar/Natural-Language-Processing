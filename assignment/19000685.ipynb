{
 "cells": [
  {
   "cell_type": "code",
   "execution_count": 4,
   "id": "c079cb7c",
   "metadata": {},
   "outputs": [],
   "source": [
    "import nltk"
   ]
  },
  {
   "cell_type": "code",
   "execution_count": 5,
   "id": "f9e4bdf7",
   "metadata": {},
   "outputs": [],
   "source": [
    "#Q1\n",
    "#a\n",
    "text_data = \"\"\"Men like Schiaparelli watched the red planet-it is odd, by-the-bye, that for\n",
    "countless centuries Mars has been the star of war-but failed to interpret the fluctuating\n",
    "appearances of the markings they mapped so well. All that time, the Martians must have been\n",
    "getting ready. During the opposition of 1894, a great light was seen on the illuminated part of the\n",
    "disk, first at the Lick Observatory, then by Perrotin of Nice, and then by other observers. English\n",
    "readers heard of it first in the issue of Nature dated August 2.\"\"\""
   ]
  },
  {
   "cell_type": "code",
   "execution_count": 110,
   "id": "466554a1",
   "metadata": {},
   "outputs": [
    {
     "name": "stdout",
     "output_type": "stream",
     "text": [
      "['Men like Schiaparelli watched the red planet-it is odd, by-the-bye, that for\\ncountless centuries Mars has been the star of war-but failed to interpret the fluctuating\\nappearances of the markings they mapped so well.', 'All that time, the Martians must have been\\ngetting ready.', 'During the opposition of 1894, a great light was seen on the illuminated part of the\\ndisk, first at the Lick Observatory, then by Perrotin of Nice, and then by other observers.', 'English\\nreaders heard of it first in the issue of Nature dated August 2.']\n"
     ]
    }
   ],
   "source": [
    "file_token=nltk.sent_tokenize(text_data)\n",
    "print(file_token)"
   ]
  },
  {
   "cell_type": "code",
   "execution_count": null,
   "id": "bca7bafb",
   "metadata": {},
   "outputs": [],
   "source": []
  },
  {
   "cell_type": "code",
   "execution_count": 109,
   "id": "3c204d62",
   "metadata": {},
   "outputs": [
    {
     "name": "stdout",
     "output_type": "stream",
     "text": [
      "Number of word: 90\n",
      "Number of unique words: 70\n",
      "Number of word After stemming: 48\n",
      "Number of unique words After stemming: 47\n"
     ]
    }
   ],
   "source": [
    "#Q2\n",
    "#a\n",
    "import nltk\n",
    "porter=nltk.PorterStemmer()\n",
    "from nltk.corpus import stopwords\n",
    "\n",
    "import re\n",
    "text_data = \"\"\"Men like Schiaparelli watched the red planet-it is odd, by-the-bye, that for\n",
    "countless centuries Mars has been the star of war-but failed to interpret the fluctuating\n",
    "appearances of the markings they mapped so well. All that time, the Martians must have been\n",
    "getting ready. During the opposition of 1894, a great light was seen on the illuminated part of the\n",
    "disk, first at the Lick Observatory, then by Perrotin of Nice, and then by other observers. English\n",
    "readers heard of it first in the issue of Nature dated August 2.\"\"\"\n",
    "\n",
    "\n",
    "nonalphanumbericpattern = '[^a-zA-Z0-9\\s]'\n",
    "alphanumberictext=re.sub(nonalphanumbericpattern,'',text_data)\n",
    "\n",
    "tokens=nltk.wordpunct_tokenize(alphanumberictext)\n",
    "lowecase_tokens=[w.lower() for w in tokens]\n",
    "\n",
    "#b\n",
    "print(\"Number of word:\",len(lowecase_tokens))\n",
    "print(\"Number of unique words:\",len(set(lowecase_tokens)))\n",
    "\n",
    "unique_tokens=set(lowecase_tokens)\n",
    "#c\n",
    "stopwords_list = set(stopwords.words('english'))\n",
    "\n",
    "filtered_sentence_words=[]\n",
    "filtered_sentence_unique_words=[]\n",
    "\n",
    "for w in lowecase_tokens:\n",
    "    if(w not in stopwords_list):\n",
    "        filtered_sentence_words.append(w)\n",
    "\n",
    "for w in unique_tokens:\n",
    "    if(w not in stopwords_list):\n",
    "        filtered_sentence_unique_words.append(w)\n",
    "        \n",
    "text_stemmed = [porter.stem(t) for t in filtered_sentence_words]\n",
    "text_stemmed_Unique = [porter.stem(t) for t in filtered_sentence_unique_words]\n",
    "\n",
    "print(\"Number of word After stemming:\",len(text_stemmed))\n",
    "print(\"Number of unique words After stemming:\",len(text_stemmed_Unique))"
   ]
  },
  {
   "cell_type": "code",
   "execution_count": 111,
   "id": "7ca5d071",
   "metadata": {},
   "outputs": [
    {
     "name": "stdout",
     "output_type": "stream",
     "text": [
      "['For most', 'most of', 'of the', 'the cases', 'cases ,']\n"
     ]
    }
   ],
   "source": [
    "#Q3\n",
    "#a\n",
    "from nltk.util import ngrams\n",
    "def extract_ngrams(data,num):\n",
    "    n_grams=ngrams(nltk.word_tokenize(data), num)\n",
    "    return [' '.join(grams) for grams in n_grams]\n",
    "\n",
    "my_text== \"\"\"Men like Schiaparelli watched the red planet-it is odd, by-the-bye, that for\n",
    "countless centuries Mars has been the star of war-but failed to interpret the fluctuating\n",
    "appearances of the markings they mapped so well. All that time, the Martians must have been\n",
    "getting ready. During the opposition of 1894, a great light was seen on the illuminated part of the\n",
    "disk, first at the Lick Observatory, then by Perrotin of Nice, and then by other observers. English\n",
    "readers heard of it first in the issue of Nature dated August 2.\"\"\"\n",
    "ngrams_return=extract_ngrams(my_text,2)\n",
    "print(ngrams_return[0:5])"
   ]
  },
  {
   "cell_type": "code",
   "execution_count": 115,
   "id": "d2a9e39f",
   "metadata": {},
   "outputs": [
    {
     "name": "stdout",
     "output_type": "stream",
     "text": [
      "[('Men', 'NN'), ('like', 'NN'), ('Schiaparelli', 'NN'), ('watched', 'NN'), ('the', 'NN')]\n"
     ]
    }
   ],
   "source": [
    "#Q3\n",
    "#b\n",
    "from nltk.tag.sequential import ClassifierBasedPOSTagger\n",
    "from nltk.classify import NaiveBayesClassifier, MaxentClassifier\n",
    "from nltk.tag import TrigramTagger  # Considers previous 2 words\n",
    "from nltk.tag import BigramTagger  # Considers previous word\n",
    "from nltk.tag import UnigramTagger  # Context insentitive\n",
    "from nltk.tag import RegexpTagger\n",
    "from nltk.tag import DefaultTagger\n",
    "from nltk.corpus import treebank\n",
    "import nltk\n",
    "sentence = \"\"\"Men like Schiaparelli watched the red planet-it is odd, by-the-bye, that for\n",
    "countless centuries Mars has been the star of war-but failed to interpret the fluctuating\n",
    "appearances of the markings they mapped so well. All that time, the Martians must have been\n",
    "getting ready. During the opposition of 1894, a great light was seen on the illuminated part of the\n",
    "disk, first at the Lick Observatory, then by Perrotin of Nice, and then by other observers. English\n",
    "readers heard of it first in the issue of Nature dated August 2.\"\"\"\n",
    "\n",
    "tokens = nltk.word_tokenize(sentence)\n",
    "tagged_sent = nltk.pos_tag(tokens, tagset='universal')\n",
    "\n",
    "data = treebank.tagged_sents()\n",
    "train_data = data[:3500]\n",
    "test_data = data[3500:]\n",
    "\n",
    "\n",
    "dt = DefaultTagger('NN')\n",
    "\n",
    "tags_return=dt.tag(tokens)\n",
    "print(tags_return[0:5])"
   ]
  },
  {
   "cell_type": "code",
   "execution_count": null,
   "id": "252e927f",
   "metadata": {},
   "outputs": [],
   "source": [
    "nltk.download(\"maxent_ne_chunker\")\n",
    "nltk.download(\"words\")"
   ]
  },
  {
   "cell_type": "code",
   "execution_count": 84,
   "id": "971b4a4e",
   "metadata": {},
   "outputs": [
    {
     "data": {
      "text/plain": [
       "{'Lick Observatory', 'Mars', 'Nature', 'Perrotin', 'Schiaparelli'}"
      ]
     },
     "execution_count": 84,
     "metadata": {},
     "output_type": "execute_result"
    }
   ],
   "source": [
    "#Q4\n",
    "#a\n",
    "import nltk\n",
    "from nltk.tokenize import word_tokenize\n",
    "\n",
    "lotr_quote =\"\"\"Men like Schiaparelli watched the red planet-it is odd, by-the-bye, that for\n",
    "countless centuries Mars has been the star of war-but failed to interpret the fluctuating\n",
    "appearances of the markings they mapped so well. All that time, the Martians must have been\n",
    "getting ready. During the opposition of 1894, a great light was seen on the illuminated part of the\n",
    "disk, first at the Lick Observatory, then by Perrotin of Nice, and then by other observers. English\n",
    "readers heard of it first in the issue of Nature dated August 2.\"\"\"\n",
    "\n",
    "def extract_ne(quote):\n",
    "    words = word_tokenize(quote, language=\"English\")\n",
    "    tags = nltk.pos_tag(words)\n",
    "    tree = nltk.ne_chunk(tags, binary=True)\n",
    "    return set(\n",
    "    \" \".join(i[0] for i in t)\n",
    "    for t in tree\n",
    "        if hasattr(t, \"label\") and t.label() == \"NE\"\n",
    "    )\n",
    "extract_ne(lotr_quote)\n"
   ]
  },
  {
   "cell_type": "code",
   "execution_count": 76,
   "id": "1cf6ef61",
   "metadata": {},
   "outputs": [],
   "source": [
    "#Q4\n",
    "#b\n",
    "import nltk\n",
    "from nltk import CFG\n",
    "tokenizer = nltk.tokenize.TreebankWordTokenizer()\n",
    "\n",
    "\n",
    "cfg = nltk.CFG.fromstring(\"\"\"\n",
    "S -> NP VP\n",
    "VP -> V NP\n",
    "NP -> N | Det N | N PP\n",
    "PP -> P NP\n",
    "V -> \"watched\"\n",
    "N -> \"Men\" | \"Schiaparelli\" | \"planet\" | \"red\"\n",
    "Det -> \"the\"\n",
    "P ->  \"like\"\n",
    "\"\"\")\n",
    "\n",
    "input_sentence = \"Men like Schiaparelli watched the red planet\"\n",
    "\n",
    "input_sentence_token=tokenizer.tokenize(input_sentence)\n",
    "input_sentence_token\n",
    "chart_parser = nltk.ChartParser(cfg)\n",
    "for tree in chart_parser.parse(input_sentence_token):\n",
    "    print(tree)"
   ]
  },
  {
   "cell_type": "code",
   "execution_count": null,
   "id": "962e022d",
   "metadata": {},
   "outputs": [],
   "source": []
  }
 ],
 "metadata": {
  "kernelspec": {
   "display_name": "Python 3 (ipykernel)",
   "language": "python",
   "name": "python3"
  },
  "language_info": {
   "codemirror_mode": {
    "name": "ipython",
    "version": 3
   },
   "file_extension": ".py",
   "mimetype": "text/x-python",
   "name": "python",
   "nbconvert_exporter": "python",
   "pygments_lexer": "ipython3",
   "version": "3.10.9"
  }
 },
 "nbformat": 4,
 "nbformat_minor": 5
}
