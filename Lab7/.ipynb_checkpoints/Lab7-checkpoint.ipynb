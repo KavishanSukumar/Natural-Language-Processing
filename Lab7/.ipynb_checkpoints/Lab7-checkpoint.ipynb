{
 "cells": [
  {
   "cell_type": "code",
   "execution_count": 1,
   "id": "839afc37",
   "metadata": {},
   "outputs": [],
   "source": [
    "import nltk\n",
    "from nltk import CFG\n",
    "tokenizer = nltk.tokenize.TreebankWordTokenizer()\n"
   ]
  },
  {
   "cell_type": "code",
   "execution_count": 2,
   "id": "6bc12118",
   "metadata": {},
   "outputs": [
    {
     "data": {
      "text/plain": [
       "['I', 'saw', 'a', 'man', 'with', 'a', 'telescope']"
      ]
     },
     "execution_count": 2,
     "metadata": {},
     "output_type": "execute_result"
    }
   ],
   "source": [
    "import nltk\n",
    "\n",
    "\n",
    "cfg = nltk.CFG.fromstring(\"\"\"\n",
    "S -> NP VP\n",
    "VP -> V NP | VP PP\n",
    "PP -> P NP | P S\n",
    "NP -> 'I' | Det N | Det N PP\n",
    "V -> 'saw'\n",
    "N -> 'man' | 'hill' | 'telescope'\n",
    "Det -> 'a' | 'A'\n",
    "P -> 'on' | 'with'\n",
    "\"\"\")\n",
    "\n",
    "input_sentence = \"I saw a man with a telescope\"\n",
    "\n",
    "input_sentence_token=tokenizer.tokenize(input_sentence)\n",
    "input_sentence_token"
   ]
  },
  {
   "cell_type": "code",
   "execution_count": 3,
   "id": "afebd12c",
   "metadata": {},
   "outputs": [],
   "source": [
    "chart_parser = nltk.ChartParser(cfg)"
   ]
  },
  {
   "cell_type": "code",
   "execution_count": 4,
   "id": "bb66ceb3",
   "metadata": {},
   "outputs": [
    {
     "name": "stdout",
     "output_type": "stream",
     "text": [
      "(S\n",
      "  (NP I)\n",
      "  (VP\n",
      "    (VP (V saw) (NP (Det a) (N man)))\n",
      "    (PP (P with) (NP (Det a) (N telescope)))))\n",
      "(S\n",
      "  (NP I)\n",
      "  (VP\n",
      "    (V saw)\n",
      "    (NP (Det a) (N man) (PP (P with) (NP (Det a) (N telescope))))))\n"
     ]
    }
   ],
   "source": [
    "for tree in chart_parser.parse(input_sentence_token):\n",
    "    print(tree)"
   ]
  },
  {
   "cell_type": "code",
   "execution_count": 5,
   "id": "5b4e076f",
   "metadata": {},
   "outputs": [],
   "source": [
    "#The grammmer is ambiguous so that there can be two parse trees we can have two part to obtain the same sentence\n",
    "#the grammer is ambiguous "
   ]
  },
  {
   "cell_type": "code",
   "execution_count": 6,
   "id": "3bd0d011",
   "metadata": {},
   "outputs": [
    {
     "name": "stdout",
     "output_type": "stream",
     "text": [
      "(S\n",
      "  (NP I)\n",
      "  (VP\n",
      "    (V saw)\n",
      "    (NP (Det a) (N man) (PP (P with) (NP (Det a) (N telescope))))))\n"
     ]
    }
   ],
   "source": [
    "cfg1 = nltk.CFG.fromstring(\"\"\"\n",
    "S -> NP VP\n",
    "VP -> V NP \n",
    "PP -> P NP | P S\n",
    "NP -> 'I' | Det N | Det N PP\n",
    "V -> 'saw'\n",
    "N -> 'man' | 'hill' | 'telescope'\n",
    "Det -> 'a' | 'A'\n",
    "P -> 'on' | 'with'\n",
    "\"\"\")\n",
    "\n",
    "input_sentence1 = \"I saw a man with a telescope\"\n",
    "\n",
    "input_sentence_token1=tokenizer.tokenize(input_sentence1)\n",
    "input_sentence_token1\n",
    "chart_parser = nltk.ChartParser(cfg1)\n",
    "for tree in chart_parser.parse(input_sentence_token):\n",
    "    print(tree)"
   ]
  },
  {
   "cell_type": "code",
   "execution_count": 7,
   "id": "a6b3e5bd",
   "metadata": {},
   "outputs": [],
   "source": [
    "#here the ambiguity is removed and there's only one pharse tree"
   ]
  },
  {
   "cell_type": "code",
   "execution_count": 16,
   "id": "dd3c1c6d",
   "metadata": {},
   "outputs": [],
   "source": [
    "cfg2=nltk.CFG.fromstring(\"\"\"\n",
    "S -> NP VP\n",
    "NP -> N | D N | A N | A N P | D N P | D A N P | N P | N N\n",
    "NP -> Pn | Pr\n",
    "VP -> V | NP V | Advp V | Advp Advp V | Advp Adv Advp V\n",
    "Advp -> Adv | Deg Adv | N N N | N N | N | Pg N N N\n",
    "N -> \"බල්ලා\"|\"මිනිසා\"|\"මේසය\"|\"වන්න\"|\"බත්\"|\"ඊයේ\"|\"පෙරේදා\"|\"සඳුදා\"|\"බදාදා\"|\"ඉරිදා\"|\"ජනවාරි\"|\"පෙබරවාරි\"|\"සනියේ\"|\"මාසේ\" | \"අවුරුද්දේ\"\n",
    "D -> \"ඒ\"|\"මේ\"|\"අර\"|\"ඔය\"|\"සමහර\"\n",
    "A -> \"උස\"|\"හොඳ\"|\"නරක\"|\"කොට\" \"ලස්සන\"\n",
    "P -> \"උඩ\"|\"යට\"|\"මන\"\n",
    "Pn -> \"අමල්\"|\"කමල්\"|\"සමන්\"|\"සචිනි\"|\"මාලා\"|\"නාමල්\"\n",
    "Pr -> \"ඇය\" \"ඔවුන්\"|\"අපි\"/\"මම\"|\"ඌ\"|\"උන්\"|\"ඔබ\"|\"ඔබලා\"\n",
    "V -> \"කෑවා\"|\"බිව්වා\"|\"දැක්කා\"|\"ගියා\"|\"දිව්වා\"|\"වා\"|\"නැටුවා\"| \"කමු\"\n",
    "Adv -> \"ලස්සනට\" | \"කැනට\" | \"ඉක්මනට\" | \"වේගයෙන්\" | \"හෙමින්\" | \"පහසුවෙන්\" |\"පන්නියේදි\"|\"ඉස්කෝලෙදි\"|\"ගමේ දී\"|\"බස් එකේ දී\"|\"නුවරදි\" \n",
    "Deg -> \"බොහොම\" | \"හරිම\" | \"නොම\" | \"මාර\"\n",
    "PA -> \"කන\" | \"බොන\" | \"යන\" | \"එන\" | \"බලන\" | \"කියන\" | \"ලියන\" | \"නටන\" | \"කාපු\" | \"බීපු\" | \"නාපු\" |\"ආපු\" | \"ලියපු\" | \"කියවපු\" | \"කිව්ව\" | \"ලිව්ව\" | \"ආව\" | \"ගිය\" | \"නැටුව\"\n",
    "\"\"\")"
   ]
  },
  {
   "cell_type": "code",
   "execution_count": 28,
   "id": "6f97e9bd",
   "metadata": {},
   "outputs": [
    {
     "name": "stdout",
     "output_type": "stream",
     "text": [
      "(S (NP (Pn සමන්)) (VP (Advp (Deg හරිම) (Adv වේගයෙන්)) (V දිව්වා)))\n"
     ]
    }
   ],
   "source": [
    "input_sentence2 =\"අපි බත් කමු\"\n",
    "input_sentence3 =\"කමල් ගිය අවුරුද්දේ ජනවාරි මාසේ ඉස්කෝලෙදි බොහොම ලස්සනට නැටුවා\"\n",
    "input_sentence4 = \"සමන් හරිම වේගයෙන් දිව්වා\"\n",
    "\n",
    "input_sentence_token=tokenizer.tokenize(input_sentence4)\n",
    "input_sentence_token\n",
    "chart_parser = nltk.ChartParser(cfg2)\n",
    "for tree in chart_parser.parse(input_sentence_token):\n",
    "    print(tree)"
   ]
  },
  {
   "cell_type": "code",
   "execution_count": null,
   "id": "f0efab90",
   "metadata": {},
   "outputs": [],
   "source": [
    "#sentence 2 and 3 doesn't have a parse tree"
   ]
  }
 ],
 "metadata": {
  "kernelspec": {
   "display_name": "Python 3 (ipykernel)",
   "language": "python",
   "name": "python3"
  },
  "language_info": {
   "codemirror_mode": {
    "name": "ipython",
    "version": 3
   },
   "file_extension": ".py",
   "mimetype": "text/x-python",
   "name": "python",
   "nbconvert_exporter": "python",
   "pygments_lexer": "ipython3",
   "version": "3.10.9"
  }
 },
 "nbformat": 4,
 "nbformat_minor": 5
}
