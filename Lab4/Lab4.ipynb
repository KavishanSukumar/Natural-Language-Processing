{
 "cells": [
  {
   "cell_type": "code",
   "execution_count": 24,
   "id": "988f70c2",
   "metadata": {},
   "outputs": [],
   "source": [
    "import nltk\n",
    "\n",
    "porter=nltk.PorterStemmer()\n",
    "lancaster=nltk.LancasterStemmer()\n",
    "\n",
    "file0=nltk.corpus.gutenberg.fileids()[0]\n",
    "emmatext=nltk.corpus.gutenberg.raw(file0)\n",
    "emmatokens=nltk.wordpunct_tokenize(emmatext)\n",
    "emmawords=[w.lower() for w in emmatokens]\n"
   ]
  },
  {
   "cell_type": "code",
   "execution_count": 14,
   "id": "c58f26e1",
   "metadata": {},
   "outputs": [
    {
     "data": {
      "text/plain": [
       "['emma',\n",
       " 'by',\n",
       " 'jane',\n",
       " 'austen',\n",
       " '1816',\n",
       " ']',\n",
       " 'volum',\n",
       " 'i',\n",
       " 'chapter',\n",
       " 'i',\n",
       " 'emma',\n",
       " 'woodhous',\n",
       " ',',\n",
       " 'handsom',\n",
       " ',',\n",
       " 'clever',\n",
       " ',',\n",
       " 'and',\n",
       " 'rich',\n",
       " ',',\n",
       " 'with',\n",
       " 'a',\n",
       " 'comfort',\n",
       " 'home',\n",
       " 'and',\n",
       " 'happi',\n",
       " 'disposit',\n",
       " ',',\n",
       " 'seem',\n",
       " 'to',\n",
       " 'unit',\n",
       " 'some',\n",
       " 'of',\n",
       " 'the',\n",
       " 'best',\n",
       " 'bless',\n",
       " 'of',\n",
       " 'exist',\n",
       " ';',\n",
       " 'and',\n",
       " 'had',\n",
       " 'live',\n",
       " 'nearli',\n",
       " 'twenti',\n",
       " '-',\n",
       " 'one',\n",
       " 'year',\n",
       " 'in',\n",
       " 'the',\n",
       " 'world',\n",
       " 'with',\n",
       " 'veri',\n",
       " 'littl',\n",
       " 'to',\n",
       " 'distress',\n",
       " 'or',\n",
       " 'vex',\n",
       " 'her',\n",
       " '.',\n",
       " 'she',\n",
       " 'wa',\n",
       " 'the',\n",
       " 'youngest',\n",
       " 'of',\n",
       " 'the',\n",
       " 'two',\n",
       " 'daughter',\n",
       " 'of',\n",
       " 'a',\n",
       " 'most',\n",
       " 'affection',\n",
       " ',',\n",
       " 'indulg',\n",
       " 'father',\n",
       " ';',\n",
       " 'and',\n",
       " 'had',\n",
       " ',',\n",
       " 'in',\n",
       " 'consequ',\n",
       " 'of',\n",
       " 'her',\n",
       " 'sister',\n",
       " \"'\",\n",
       " 's',\n",
       " 'marriag',\n",
       " ',',\n",
       " 'been',\n",
       " 'mistress',\n",
       " 'of',\n",
       " 'hi',\n",
       " 'hous',\n",
       " 'from',\n",
       " 'a',\n",
       " 'veri',\n",
       " 'earli',\n",
       " 'period',\n",
       " '.',\n",
       " 'her']"
      ]
     },
     "execution_count": 14,
     "metadata": {},
     "output_type": "execute_result"
    }
   ],
   "source": [
    "emmaregstem = [porter.stem(t) for t in emmatokens]\n",
    "emmaregstem[1:100]"
   ]
  },
  {
   "cell_type": "code",
   "execution_count": 18,
   "id": "f68e8225",
   "metadata": {},
   "outputs": [
    {
     "data": {
      "text/plain": [
       "['emma',\n",
       " 'by',\n",
       " 'jane',\n",
       " 'austen',\n",
       " '1816',\n",
       " ']',\n",
       " 'volum',\n",
       " 'i',\n",
       " 'chapter',\n",
       " 'i',\n",
       " 'emma',\n",
       " 'woodhous',\n",
       " ',',\n",
       " 'handsom',\n",
       " ',',\n",
       " 'clever',\n",
       " ',',\n",
       " 'and',\n",
       " 'rich',\n",
       " ',',\n",
       " 'with',\n",
       " 'a',\n",
       " 'comfort',\n",
       " 'home',\n",
       " 'and',\n",
       " 'happi',\n",
       " 'disposit',\n",
       " ',',\n",
       " 'seem',\n",
       " 'to',\n",
       " 'unit',\n",
       " 'some',\n",
       " 'of',\n",
       " 'the',\n",
       " 'best',\n",
       " 'bless',\n",
       " 'of',\n",
       " 'exist',\n",
       " ';',\n",
       " 'and',\n",
       " 'had',\n",
       " 'live',\n",
       " 'nearli',\n",
       " 'twenti',\n",
       " '-',\n",
       " 'one',\n",
       " 'year',\n",
       " 'in',\n",
       " 'the',\n",
       " 'world',\n",
       " 'with',\n",
       " 'veri',\n",
       " 'littl',\n",
       " 'to',\n",
       " 'distress',\n",
       " 'or',\n",
       " 'vex',\n",
       " 'her',\n",
       " '.',\n",
       " 'she',\n",
       " 'wa',\n",
       " 'the',\n",
       " 'youngest',\n",
       " 'of',\n",
       " 'the',\n",
       " 'two',\n",
       " 'daughter',\n",
       " 'of',\n",
       " 'a',\n",
       " 'most',\n",
       " 'affection',\n",
       " ',',\n",
       " 'indulg',\n",
       " 'father',\n",
       " ';',\n",
       " 'and',\n",
       " 'had',\n",
       " ',',\n",
       " 'in',\n",
       " 'consequ',\n",
       " 'of',\n",
       " 'her',\n",
       " 'sister',\n",
       " \"'\",\n",
       " 's',\n",
       " 'marriag',\n",
       " ',',\n",
       " 'been',\n",
       " 'mistress',\n",
       " 'of',\n",
       " 'hi',\n",
       " 'hous',\n",
       " 'from',\n",
       " 'a',\n",
       " 'veri',\n",
       " 'earli',\n",
       " 'period',\n",
       " '.',\n",
       " 'her']"
      ]
     },
     "execution_count": 18,
     "metadata": {},
     "output_type": "execute_result"
    }
   ],
   "source": [
    "emmalowerstem=[porter.stem(t) for t in emmawords]\n",
    "emmalowerstem[1:100]"
   ]
  },
  {
   "cell_type": "code",
   "execution_count": 25,
   "id": "abd41ce4",
   "metadata": {},
   "outputs": [
    {
     "data": {
      "text/plain": [
       "['emm',\n",
       " 'by',\n",
       " 'jan',\n",
       " 'aust',\n",
       " '1816',\n",
       " ']',\n",
       " 'volum',\n",
       " 'i',\n",
       " 'chapt',\n",
       " 'i',\n",
       " 'emm',\n",
       " 'woodh',\n",
       " ',',\n",
       " 'handsom',\n",
       " ',',\n",
       " 'clev',\n",
       " ',',\n",
       " 'and',\n",
       " 'rich',\n",
       " ',',\n",
       " 'with',\n",
       " 'a',\n",
       " 'comfort',\n",
       " 'hom',\n",
       " 'and',\n",
       " 'happy',\n",
       " 'disposit',\n",
       " ',',\n",
       " 'seem',\n",
       " 'to',\n",
       " 'unit',\n",
       " 'som',\n",
       " 'of',\n",
       " 'the',\n",
       " 'best',\n",
       " 'bless',\n",
       " 'of',\n",
       " 'ex',\n",
       " ';',\n",
       " 'and',\n",
       " 'had',\n",
       " 'liv',\n",
       " 'near',\n",
       " 'twenty',\n",
       " '-',\n",
       " 'on',\n",
       " 'year',\n",
       " 'in',\n",
       " 'the',\n",
       " 'world',\n",
       " 'with',\n",
       " 'very',\n",
       " 'littl',\n",
       " 'to',\n",
       " 'distress',\n",
       " 'or',\n",
       " 'vex',\n",
       " 'her',\n",
       " '.',\n",
       " 'she',\n",
       " 'was',\n",
       " 'the',\n",
       " 'youngest',\n",
       " 'of',\n",
       " 'the',\n",
       " 'two',\n",
       " 'daught',\n",
       " 'of',\n",
       " 'a',\n",
       " 'most',\n",
       " 'affect',\n",
       " ',',\n",
       " 'indulg',\n",
       " 'fath',\n",
       " ';',\n",
       " 'and',\n",
       " 'had',\n",
       " ',',\n",
       " 'in',\n",
       " 'consequ',\n",
       " 'of',\n",
       " 'her',\n",
       " 'sist',\n",
       " \"'\",\n",
       " 's',\n",
       " 'marry',\n",
       " ',',\n",
       " 'been',\n",
       " 'mistress',\n",
       " 'of',\n",
       " 'his',\n",
       " 'hous',\n",
       " 'from',\n",
       " 'a',\n",
       " 'very',\n",
       " 'ear',\n",
       " 'period',\n",
       " '.',\n",
       " 'her']"
      ]
     },
     "execution_count": 25,
     "metadata": {},
     "output_type": "execute_result"
    }
   ],
   "source": [
    "emmaregstem = [lancaster.stem(t) for t in emmatokens]\n",
    "emmaregstem[1:100]"
   ]
  },
  {
   "cell_type": "code",
   "execution_count": 26,
   "id": "dfb4e35a",
   "metadata": {},
   "outputs": [
    {
     "data": {
      "text/plain": [
       "['emm',\n",
       " 'by',\n",
       " 'jan',\n",
       " 'aust',\n",
       " '1816',\n",
       " ']',\n",
       " 'volum',\n",
       " 'i',\n",
       " 'chapt',\n",
       " 'i',\n",
       " 'emm',\n",
       " 'woodh',\n",
       " ',',\n",
       " 'handsom',\n",
       " ',',\n",
       " 'clev',\n",
       " ',',\n",
       " 'and',\n",
       " 'rich',\n",
       " ',',\n",
       " 'with',\n",
       " 'a',\n",
       " 'comfort',\n",
       " 'hom',\n",
       " 'and',\n",
       " 'happy',\n",
       " 'disposit',\n",
       " ',',\n",
       " 'seem',\n",
       " 'to',\n",
       " 'unit',\n",
       " 'som',\n",
       " 'of',\n",
       " 'the',\n",
       " 'best',\n",
       " 'bless',\n",
       " 'of',\n",
       " 'ex',\n",
       " ';',\n",
       " 'and',\n",
       " 'had',\n",
       " 'liv',\n",
       " 'near',\n",
       " 'twenty',\n",
       " '-',\n",
       " 'on',\n",
       " 'year',\n",
       " 'in',\n",
       " 'the',\n",
       " 'world',\n",
       " 'with',\n",
       " 'very',\n",
       " 'littl',\n",
       " 'to',\n",
       " 'distress',\n",
       " 'or',\n",
       " 'vex',\n",
       " 'her',\n",
       " '.',\n",
       " 'she',\n",
       " 'was',\n",
       " 'the',\n",
       " 'youngest',\n",
       " 'of',\n",
       " 'the',\n",
       " 'two',\n",
       " 'daught',\n",
       " 'of',\n",
       " 'a',\n",
       " 'most',\n",
       " 'affect',\n",
       " ',',\n",
       " 'indulg',\n",
       " 'fath',\n",
       " ';',\n",
       " 'and',\n",
       " 'had',\n",
       " ',',\n",
       " 'in',\n",
       " 'consequ',\n",
       " 'of',\n",
       " 'her',\n",
       " 'sist',\n",
       " \"'\",\n",
       " 's',\n",
       " 'marry',\n",
       " ',',\n",
       " 'been',\n",
       " 'mistress',\n",
       " 'of',\n",
       " 'his',\n",
       " 'hous',\n",
       " 'from',\n",
       " 'a',\n",
       " 'very',\n",
       " 'ear',\n",
       " 'period',\n",
       " '.',\n",
       " 'her']"
      ]
     },
     "execution_count": 26,
     "metadata": {},
     "output_type": "execute_result"
    }
   ],
   "source": [
    "emmalowerstem=[lancaster.stem(t) for t in emmawords]\n",
    "emmalowerstem[1:100]"
   ]
  },
  {
   "cell_type": "code",
   "execution_count": 28,
   "id": "42ece27b",
   "metadata": {},
   "outputs": [
    {
     "data": {
      "text/plain": [
       "'friend'"
      ]
     },
     "execution_count": 28,
     "metadata": {},
     "output_type": "execute_result"
    }
   ],
   "source": [
    "def stem(word):\n",
    "    for suffix in ['ing','ly','ed','ious','ies','ive','es','s']:\n",
    "        if word.endswith(suffix):\n",
    "            return word[:-len(suffix)]\n",
    "    return word\n",
    "\n",
    "\n",
    "stemmedword=stem('friends')\n",
    "stemmedword"
   ]
  },
  {
   "cell_type": "code",
   "execution_count": 29,
   "id": "5d67073c",
   "metadata": {},
   "outputs": [
    {
     "data": {
      "text/plain": [
       "['emma',\n",
       " 'by',\n",
       " 'jane',\n",
       " 'austen',\n",
       " '1816',\n",
       " ']',\n",
       " 'volume',\n",
       " 'i',\n",
       " 'chapter',\n",
       " 'i',\n",
       " 'emma',\n",
       " 'woodhouse',\n",
       " ',',\n",
       " 'handsome',\n",
       " ',',\n",
       " 'clever',\n",
       " ',',\n",
       " 'and',\n",
       " 'rich',\n",
       " ',',\n",
       " 'with',\n",
       " 'a',\n",
       " 'comfortable',\n",
       " 'home',\n",
       " 'and',\n",
       " 'happy',\n",
       " 'disposition',\n",
       " ',',\n",
       " 'seemed',\n",
       " 'to',\n",
       " 'unite',\n",
       " 'some',\n",
       " 'of',\n",
       " 'the',\n",
       " 'best',\n",
       " 'blessing',\n",
       " 'of',\n",
       " 'existence',\n",
       " ';',\n",
       " 'and',\n",
       " 'had',\n",
       " 'lived',\n",
       " 'nearly',\n",
       " 'twenty',\n",
       " '-',\n",
       " 'one',\n",
       " 'year',\n",
       " 'in',\n",
       " 'the',\n",
       " 'world',\n",
       " 'with',\n",
       " 'very',\n",
       " 'little',\n",
       " 'to',\n",
       " 'distress',\n",
       " 'or',\n",
       " 'vex',\n",
       " 'her',\n",
       " '.',\n",
       " 'she',\n",
       " 'wa',\n",
       " 'the',\n",
       " 'youngest',\n",
       " 'of',\n",
       " 'the',\n",
       " 'two',\n",
       " 'daughter',\n",
       " 'of',\n",
       " 'a',\n",
       " 'most',\n",
       " 'affectionate',\n",
       " ',',\n",
       " 'indulgent',\n",
       " 'father',\n",
       " ';',\n",
       " 'and',\n",
       " 'had',\n",
       " ',',\n",
       " 'in',\n",
       " 'consequence',\n",
       " 'of',\n",
       " 'her',\n",
       " 'sister',\n",
       " \"'\",\n",
       " 's',\n",
       " 'marriage',\n",
       " ',',\n",
       " 'been',\n",
       " 'mistress',\n",
       " 'of',\n",
       " 'his',\n",
       " 'house',\n",
       " 'from',\n",
       " 'a',\n",
       " 'very',\n",
       " 'early',\n",
       " 'period',\n",
       " '.',\n",
       " 'her']"
      ]
     },
     "execution_count": 29,
     "metadata": {},
     "output_type": "execute_result"
    }
   ],
   "source": [
    "wnl=nltk.WordNetLemmatizer()\n",
    "emmalemma=[wnl.lemmatize(t) for t in emmawords]\n",
    "emmalemma[1:100]"
   ]
  },
  {
   "cell_type": "code",
   "execution_count": 40,
   "id": "71a994f2",
   "metadata": {},
   "outputs": [],
   "source": [
    "type(emmatext)\n",
    "len(emmatext)\n",
    "shorttext=emmatext[:150]"
   ]
  },
  {
   "cell_type": "code",
   "execution_count": 33,
   "id": "898af547",
   "metadata": {},
   "outputs": [
    {
     "name": "stdout",
     "output_type": "stream",
     "text": [
      "[\n",
      "E\n",
      "m\n",
      "m\n",
      "a\n",
      " \n",
      "b\n",
      "y\n",
      " \n",
      "J\n"
     ]
    }
   ],
   "source": [
    "for char in shorttext[:10]:\n",
    "    print(char)"
   ]
  },
  {
   "cell_type": "code",
   "execution_count": 41,
   "id": "c2bb1b7f",
   "metadata": {},
   "outputs": [
    {
     "data": {
      "text/plain": [
       "'[Emma by Jane Austen 1816]  VOLUME I  CHAPTER I   Emma Woodhouse, handsome, clever, and rich, with a comfortable home and happy disposition, seemed to'"
      ]
     },
     "execution_count": 41,
     "metadata": {},
     "output_type": "execute_result"
    }
   ],
   "source": [
    "newemmatext=emmatext.replace('\\n',' ')\n",
    "shorttext=newemmatext[:150]\n",
    "shorttext"
   ]
  },
  {
   "cell_type": "code",
   "execution_count": 45,
   "id": "d6f63bca",
   "metadata": {},
   "outputs": [
    {
     "data": {
      "text/plain": [
       "['Emma',\n",
       " 'by',\n",
       " 'Jane',\n",
       " 'Austen',\n",
       " '1816',\n",
       " 'VOLUME',\n",
       " 'I',\n",
       " 'CHAPTER',\n",
       " 'I',\n",
       " 'Emma',\n",
       " 'Woodhouse',\n",
       " 'handsome',\n",
       " 'clever',\n",
       " 'and',\n",
       " 'rich',\n",
       " 'with',\n",
       " 'a',\n",
       " 'comfortable',\n",
       " 'home',\n",
       " 'and',\n",
       " 'happy',\n",
       " 'disposition',\n",
       " 'seemed',\n",
       " 'to']"
      ]
     },
     "execution_count": 45,
     "metadata": {},
     "output_type": "execute_result"
    }
   ],
   "source": [
    "import re\n",
    "pword=re.compile('\\w+')\n",
    "re.findall(pword,shorttext)"
   ]
  },
  {
   "cell_type": "code",
   "execution_count": 46,
   "id": "770b8baf",
   "metadata": {},
   "outputs": [
    {
     "data": {
      "text/plain": [
       "['U', 'S', 'A', 'poster', 'print', 'costs', '12', '40', 'with', '10', 'off']"
      ]
     },
     "execution_count": 46,
     "metadata": {},
     "output_type": "execute_result"
    }
   ],
   "source": [
    "specialtext = 'U.S.A. poster-print costs $12.40, with 10% off.'\n",
    "re.findall(pword, specialtext)"
   ]
  },
  {
   "cell_type": "code",
   "execution_count": 48,
   "id": "afb7ae95",
   "metadata": {},
   "outputs": [
    {
     "data": {
      "text/plain": [
       "[('U', ''),\n",
       " ('S', ''),\n",
       " ('A', ''),\n",
       " ('poster-print', '-print'),\n",
       " ('costs', ''),\n",
       " ('12', ''),\n",
       " ('40', ''),\n",
       " ('with', ''),\n",
       " ('10', ''),\n",
       " ('off', '')]"
      ]
     },
     "execution_count": 48,
     "metadata": {},
     "output_type": "execute_result"
    }
   ],
   "source": [
    "ptoken=re.compile('(\\w+(-\\w+)*)')\n",
    "re.findall(ptoken,specialtext)"
   ]
  },
  {
   "cell_type": "code",
   "execution_count": 49,
   "id": "a8f28582",
   "metadata": {},
   "outputs": [
    {
     "data": {
      "text/plain": [
       "[('U.S.A.', 'A.')]"
      ]
     },
     "execution_count": 49,
     "metadata": {},
     "output_type": "execute_result"
    }
   ],
   "source": [
    "pabbrev=re.compile('(([A-Z]\\.)+)')\n",
    "re.findall(pabbrev,specialtext)"
   ]
  },
  {
   "cell_type": "code",
   "execution_count": 51,
   "id": "c4e79992",
   "metadata": {},
   "outputs": [
    {
     "data": {
      "text/plain": [
       "[('U', '', ''),\n",
       " ('S', '', ''),\n",
       " ('A', '', ''),\n",
       " ('poster-print', '-print', ''),\n",
       " ('costs', '', ''),\n",
       " ('12', '', ''),\n",
       " ('40', '', ''),\n",
       " ('with', '', ''),\n",
       " ('10', '', ''),\n",
       " ('off', '', '')]"
      ]
     },
     "execution_count": 51,
     "metadata": {},
     "output_type": "execute_result"
    }
   ],
   "source": [
    "ptoken=re.compile('(\\w+(-\\w+)*|([A-Z]\\.)+)')\n",
    "re.findall(ptoken,specialtext)"
   ]
  },
  {
   "cell_type": "code",
   "execution_count": 52,
   "id": "d0036667",
   "metadata": {},
   "outputs": [
    {
     "data": {
      "text/plain": [
       "[('U.S.A.', 'A.', ''),\n",
       " ('poster-print', '', '-print'),\n",
       " ('costs', '', ''),\n",
       " ('12', '', ''),\n",
       " ('40', '', ''),\n",
       " ('with', '', ''),\n",
       " ('10', '', ''),\n",
       " ('off', '', '')]"
      ]
     },
     "execution_count": 52,
     "metadata": {},
     "output_type": "execute_result"
    }
   ],
   "source": [
    "ptoken = re.compile('(([A-Z]\\.)+|\\w+(-\\w+)*)')\n",
    "re.findall(ptoken,specialtext)"
   ]
  },
  {
   "cell_type": "code",
   "execution_count": 53,
   "id": "8ec5e9c5",
   "metadata": {},
   "outputs": [
    {
     "data": {
      "text/plain": [
       "[('U.S.A.', 'A.', '', ''),\n",
       " ('poster-print', '', '-print', ''),\n",
       " ('costs', '', '', ''),\n",
       " ('$12.40', '', '', '.40'),\n",
       " ('with', '', '', ''),\n",
       " ('10', '', '', ''),\n",
       " ('off', '', '', '')]"
      ]
     },
     "execution_count": 53,
     "metadata": {},
     "output_type": "execute_result"
    }
   ],
   "source": [
    "ptoken = re.compile(r'(([A-Z]\\.)+|\\w+(-\\w+)*|\\$?\\d+(\\.\\d+)?)')\n",
    "re.findall(ptoken,specialtext)"
   ]
  },
  {
   "cell_type": "code",
   "execution_count": 54,
   "id": "6c29036d",
   "metadata": {},
   "outputs": [],
   "source": [
    "ptoken = re.compile(r'''([A-Z]\\.)+ \n",
    "| \\w+(-\\w+)* \n",
    "| \\$?\\d+(\\.\\d+)? \n",
    "''', re.X) "
   ]
  },
  {
   "cell_type": "code",
   "execution_count": 59,
   "id": "8e2b4d1e",
   "metadata": {},
   "outputs": [],
   "source": [
    "pattern =r''' (?x)\n",
    "    ([A-Z]\\.)+\n",
    "    | \\w+(-\\w+)*\n",
    "    | \\$?\\d+(\\.\\d+)?%?\n",
    "    | \\.\\.\\.\n",
    "    | [][.,;\"'?():-_']\n",
    "    | '''"
   ]
  },
  {
   "cell_type": "code",
   "execution_count": 60,
   "id": "eade1a4a",
   "metadata": {},
   "outputs": [
    {
     "data": {
      "text/plain": [
       "[('', '', ''),\n",
       " ('', '', ''),\n",
       " ('', '', ''),\n",
       " ('', '', ''),\n",
       " ('', '', ''),\n",
       " ('', '', ''),\n",
       " ('', '', ''),\n",
       " ('', '', ''),\n",
       " ('', '', ''),\n",
       " ('', '', ''),\n",
       " ('', '', ''),\n",
       " ('', '', ''),\n",
       " ('', '', ''),\n",
       " ('', '', ''),\n",
       " ('', '', ''),\n",
       " ('', '', ''),\n",
       " ('', '', ''),\n",
       " ('', '', ''),\n",
       " ('', '', ''),\n",
       " ('', '', ''),\n",
       " ('', '', ''),\n",
       " ('', '', ''),\n",
       " ('', '', ''),\n",
       " ('', '', ''),\n",
       " ('', '', ''),\n",
       " ('', '', ''),\n",
       " ('', '', ''),\n",
       " ('', '', ''),\n",
       " ('', '', ''),\n",
       " ('', '', ''),\n",
       " ('', '', ''),\n",
       " ('', '', ''),\n",
       " ('', '', ''),\n",
       " ('', '', ''),\n",
       " ('', '', ''),\n",
       " ('', '', ''),\n",
       " ('', '', ''),\n",
       " ('', '', ''),\n",
       " ('', '', ''),\n",
       " ('', '', ''),\n",
       " ('', '', ''),\n",
       " ('', '', ''),\n",
       " ('', '', ''),\n",
       " ('', '', ''),\n",
       " ('', '', ''),\n",
       " ('', '', ''),\n",
       " ('', '', ''),\n",
       " ('', '', ''),\n",
       " ('', '', ''),\n",
       " ('', '', ''),\n",
       " ('', '', ''),\n",
       " ('', '', ''),\n",
       " ('', '', ''),\n",
       " ('', '', ''),\n",
       " ('', '', ''),\n",
       " ('', '', ''),\n",
       " ('', '', ''),\n",
       " ('', '', ''),\n",
       " ('', '', '')]"
      ]
     },
     "execution_count": 60,
     "metadata": {},
     "output_type": "execute_result"
    }
   ],
   "source": [
    "nltk.regexp_tokenize(shorttext,pattern)"
   ]
  },
  {
   "cell_type": "code",
   "execution_count": 61,
   "id": "9063f8b7",
   "metadata": {},
   "outputs": [
    {
     "data": {
      "text/plain": [
       "[('A.', '', ''),\n",
       " ('', '', ''),\n",
       " ('', '-print', ''),\n",
       " ('', '', ''),\n",
       " ('', '', ''),\n",
       " ('', '', ''),\n",
       " ('', '', '.40'),\n",
       " ('', '', ''),\n",
       " ('', '', ''),\n",
       " ('', '', ''),\n",
       " ('', '', ''),\n",
       " ('', '', ''),\n",
       " ('', '', ''),\n",
       " ('', '', ''),\n",
       " ('', '', ''),\n",
       " ('', '', ''),\n",
       " ('', '', '')]"
      ]
     },
     "execution_count": 61,
     "metadata": {},
     "output_type": "execute_result"
    }
   ],
   "source": [
    "nltk.regexp_tokenize(specialtext,pattern)"
   ]
  },
  {
   "cell_type": "code",
   "execution_count": 63,
   "id": "ae3e3067",
   "metadata": {},
   "outputs": [],
   "source": [
    "tweetPattern = r''' (?x) \n",
    "| (:-\\)|;-\\)) \n",
    "| &(amp|lt|gt|quot); \n",
    "| \\d+:\\d+ \n",
    "| (\\d+,)+?\\d{3}(?=([^,]|$))\n",
    "| ([A-Z]\\.)+ \n",
    "| (--+) \n",
    "| \\w+(-\\w+)*\n",
    "| ['\\\".?!,:;]+\n",
    "'''"
   ]
  },
  {
   "cell_type": "code",
   "execution_count": 65,
   "id": "b4d52139",
   "metadata": {},
   "outputs": [],
   "source": [
    "tweet1 = \"@natalieohayre I agree #hc09 needs reform- but not by crooked politicians who r clueless about healthcare! #tcot #fishyNO GOV'T TAKEOVER!\"\n",
    "tweet2 = \"To Sen. Roland Burris: Affordable, quality health insurance can't wait http://bit.ly/j63je #hc09 #IL #60660\"\n",
    "tweet3 = \"RT @karoli: RT @Seriou: .@whitehouse I will stand w/ Obama on #healthcare, I trust him. #p2 #tlot\""
   ]
  },
  {
   "cell_type": "code",
   "execution_count": 68,
   "id": "a3c145f5",
   "metadata": {},
   "outputs": [
    {
     "data": {
      "text/plain": [
       "[('', '', '', '', '', '', ''),\n",
       " ('', '', '', '', '', '', ''),\n",
       " ('', '', '', '', '', '', ''),\n",
       " ('', '', '', '', '', '', ''),\n",
       " ('', '', '', '', '', '', ''),\n",
       " ('', '', '', '', '', '', ''),\n",
       " ('', '', '', '', '', '', ''),\n",
       " ('', '', '', '', '', '', ''),\n",
       " ('', '', '', '', '', '', ''),\n",
       " ('', '', '', '', '', '', ''),\n",
       " ('', '', '', '', '', '', ''),\n",
       " ('', '', '', '', '', '', ''),\n",
       " ('', '', '', '', '', '', ''),\n",
       " ('', '', '', '', '', '', ''),\n",
       " ('', '', '', '', '', '', ''),\n",
       " ('', '', '', '', '', '', ''),\n",
       " ('', '', '', '', '', '', ''),\n",
       " ('', '', '', '', '', '', ''),\n",
       " ('', '', '', '', '', '', ''),\n",
       " ('', '', '', '', '', '', ''),\n",
       " ('', '', '', '', '', '', ''),\n",
       " ('', '', '', '', '', '', ''),\n",
       " ('', '', '', '', '', '', ''),\n",
       " ('', '', '', '', '', '', ''),\n",
       " ('', '', '', '', '', '', ''),\n",
       " ('', '', '', '', '', '', ''),\n",
       " ('', '', '', '', '', '', ''),\n",
       " ('', '', '', '', '', '', ''),\n",
       " ('', '', '', '', '', '', ''),\n",
       " ('', '', '', '', '', '', ''),\n",
       " ('', '', '', '', '', '', ''),\n",
       " ('', '', '', '', '', '', ''),\n",
       " ('', '', '', '', '', '', ''),\n",
       " ('', '', '', '', '', '', ''),\n",
       " ('', '', '', '', '', '', ''),\n",
       " ('', '', '', '', '', '', ''),\n",
       " ('', '', '', '', '', '', ''),\n",
       " ('', '', '', '', '', '', ''),\n",
       " ('', '', '', '', '', '', ''),\n",
       " ('', '', '', '', '', '', ''),\n",
       " ('', '', '', '', '', '', ''),\n",
       " ('', '', '', '', '', '', ''),\n",
       " ('', '', '', '', '', '', ''),\n",
       " ('', '', '', '', '', '', ''),\n",
       " ('', '', '', '', '', '', ''),\n",
       " ('', '', '', '', '', '', ''),\n",
       " ('', '', '', '', '', '', ''),\n",
       " ('', '', '', '', '', '', ''),\n",
       " ('', '', '', '', '', '', ''),\n",
       " ('', '', '', '', '', '', ''),\n",
       " ('', '', '', '', '', '', ''),\n",
       " ('', '', '', '', '', '', ''),\n",
       " ('', '', '', '', '', '', ''),\n",
       " ('', '', '', '', '', '', ''),\n",
       " ('', '', '', '', '', '', ''),\n",
       " ('', '', '', '', '', '', ''),\n",
       " ('', '', '', '', '', '', ''),\n",
       " ('', '', '', '', '', '', ''),\n",
       " ('', '', '', '', '', '', ''),\n",
       " ('', '', '', '', '', '', ''),\n",
       " ('', '', '', '', '', '', ''),\n",
       " ('', '', '', '', '', '', ''),\n",
       " ('', '', '', '', '', '', ''),\n",
       " ('', '', '', '', '', '', ''),\n",
       " ('', '', '', '', '', '', ''),\n",
       " ('', '', '', '', '', '', ''),\n",
       " ('', '', '', '', '', '', ''),\n",
       " ('', '', '', '', '', '', '')]"
      ]
     },
     "execution_count": 68,
     "metadata": {},
     "output_type": "execute_result"
    }
   ],
   "source": [
    "nltk.regexp_tokenize(tweet3,tweetPattern)"
   ]
  },
  {
   "cell_type": "code",
   "execution_count": null,
   "id": "6ef03204",
   "metadata": {},
   "outputs": [],
   "source": []
  }
 ],
 "metadata": {
  "kernelspec": {
   "display_name": "Python 3 (ipykernel)",
   "language": "python",
   "name": "python3"
  },
  "language_info": {
   "codemirror_mode": {
    "name": "ipython",
    "version": 3
   },
   "file_extension": ".py",
   "mimetype": "text/x-python",
   "name": "python",
   "nbconvert_exporter": "python",
   "pygments_lexer": "ipython3",
   "version": "3.10.9"
  }
 },
 "nbformat": 4,
 "nbformat_minor": 5
}
